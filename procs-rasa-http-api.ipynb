{
 "cells": [
  {
   "cell_type": "code",
   "execution_count": 2,
   "metadata": {
    "ExecuteTime": {
     "end_time": "2019-12-31T07:57:51.137519Z",
     "start_time": "2019-12-31T07:57:48.737268Z"
    }
   },
   "outputs": [
    {
     "name": "stdout",
     "output_type": "stream",
     "text": [
      "status code: 200\n"
     ]
    },
    {
     "data": {
      "text/plain": [
       "{'intent': {'name': 'medical_department', 'confidence': 0.5222907066},\n",
       " 'entities': [{'start': 2,\n",
       "   'end': 4,\n",
       "   'value': '发烧',\n",
       "   'entity': 'disease',\n",
       "   'confidence': 0.785310275,\n",
       "   'extractor': 'CRFEntityExtractor'},\n",
       "  {'start': 10,\n",
       "   'end': 12,\n",
       "   'value': 'clinic',\n",
       "   'entity': 'place',\n",
       "   'confidence': 0.7854382598,\n",
       "   'extractor': 'CRFEntityExtractor',\n",
       "   'processors': ['EntitySynonymMapper']},\n",
       "  {'start': 14,\n",
       "   'end': 16,\n",
       "   'value': 'department',\n",
       "   'entity': 'place',\n",
       "   'confidence': 0.6503347401,\n",
       "   'extractor': 'CRFEntityExtractor',\n",
       "   'processors': ['EntitySynonymMapper']}],\n",
       " 'intent_ranking': [{'name': 'medical_department', 'confidence': 0.5222907066},\n",
       "  {'name': 'thankyou', 'confidence': 0.0881243944},\n",
       "  {'name': 'affirm', 'confidence': 0.0881139189},\n",
       "  {'name': 'about_date', 'confidence': 0.0848287567},\n",
       "  {'name': 'mood_unhappy', 'confidence': 0.0683266744},\n",
       "  {'name': 'greet', 'confidence': 0.0279400684},\n",
       "  {'name': 'compare_reviews', 'confidence': 0.0265543032},\n",
       "  {'name': 'goodbye', 'confidence': 0.0214942377},\n",
       "  {'name': 'medical', 'confidence': 0.0163148567},\n",
       "  {'name': 'deny', 'confidence': 0.015940873}],\n",
       " 'text': '感觉发烧了，该去哪个诊所哪个科室呢'}"
      ]
     },
     "execution_count": 2,
     "metadata": {},
     "output_type": "execute_result"
    }
   ],
   "source": [
    "import requests\n",
    "\n",
    "def parse(sents):\n",
    "    response = requests.post(f'http://localhost:5005/model/parse', json={'text': sents})\n",
    "    print('status code:', response.status_code)\n",
    "    return response.json()\n",
    "\n",
    "parse('感觉发烧了，该去哪个诊所哪个科室呢')"
   ]
  },
  {
   "cell_type": "code",
   "execution_count": 13,
   "metadata": {
    "ExecuteTime": {
     "end_time": "2019-12-31T08:42:44.108536Z",
     "start_time": "2019-12-31T08:42:44.055806Z"
    }
   },
   "outputs": [
    {
     "name": "stdout",
     "output_type": "stream",
     "text": [
      "status code: 200\n"
     ]
    },
    {
     "data": {
      "text/plain": [
       "{'sender_id': 'default',\n",
       " 'slots': {'cuisine': None,\n",
       "  'disease': None,\n",
       "  'info': None,\n",
       "  'location': None,\n",
       "  'matches': None,\n",
       "  'people': None,\n",
       "  'place': None,\n",
       "  'price': None},\n",
       " 'latest_message': {'intent': {},\n",
       "  'entities': [],\n",
       "  'text': None,\n",
       "  'message_id': None,\n",
       "  'metadata': {}},\n",
       " 'latest_event_time': 1577781764.066893,\n",
       " 'followup_action': 'action_listen',\n",
       " 'paused': False,\n",
       " 'events': [],\n",
       " 'latest_input_channel': 'rest',\n",
       " 'active_form': {},\n",
       " 'latest_action_name': None}"
      ]
     },
     "execution_count": 13,
     "metadata": {},
     "output_type": "execute_result"
    }
   ],
   "source": [
    "def reset(sender='default'):\n",
    "    response = requests.post(f'http://localhost:5005/conversations/{sender}/tracker/events', json={'event': 'restart'})\n",
    "    print('status code:', response.status_code)\n",
    "    return response.json()\n",
    "reset()"
   ]
  },
  {
   "cell_type": "code",
   "execution_count": 9,
   "metadata": {
    "ExecuteTime": {
     "end_time": "2019-12-31T08:32:25.138534Z",
     "start_time": "2019-12-31T08:32:25.084502Z"
    }
   },
   "outputs": [
    {
     "name": "stdout",
     "output_type": "stream",
     "text": [
      "status code: 200\n"
     ]
    },
    {
     "data": {
      "text/plain": [
       "[{'recipient_id': 'default', 'text': '嗨! 你好吗?'}]"
      ]
     },
     "execution_count": 9,
     "metadata": {},
     "output_type": "execute_result"
    }
   ],
   "source": [
    "def talk(sents, sender='default'):\n",
    "    response = requests.post(f'http://localhost:5005/webhooks/rest/webhook', json={'message': sents})\n",
    "    print('status code:', response.status_code)\n",
    "    return response.json()\n",
    "talk('hello')"
   ]
  },
  {
   "cell_type": "code",
   "execution_count": 10,
   "metadata": {
    "ExecuteTime": {
     "end_time": "2019-12-31T08:32:27.768203Z",
     "start_time": "2019-12-31T08:32:27.679197Z"
    }
   },
   "outputs": [
    {
     "name": "stdout",
     "output_type": "stream",
     "text": [
      "status code: 200\n"
     ]
    },
    {
     "data": {
      "text/plain": [
       "[{'recipient_id': 'default', 'text': '这儿有好东西给你看, 嘿嘿:'},\n",
       " {'recipient_id': 'default', 'image': 'https://i.imgur.com/nGF1K8f.jpg'},\n",
       " {'recipient_id': 'default', 'text': '帮到你了吗?'}]"
      ]
     },
     "execution_count": 10,
     "metadata": {},
     "output_type": "execute_result"
    }
   ],
   "source": [
    "talk('不好')"
   ]
  },
  {
   "cell_type": "code",
   "execution_count": 11,
   "metadata": {
    "ExecuteTime": {
     "end_time": "2019-12-31T08:32:42.480199Z",
     "start_time": "2019-12-31T08:32:42.432304Z"
    }
   },
   "outputs": [
    {
     "name": "stdout",
     "output_type": "stream",
     "text": [
      "status code: 200\n"
     ]
    },
    {
     "data": {
      "text/plain": [
       "[{'recipient_id': 'default', 'text': '再见'}]"
      ]
     },
     "execution_count": 11,
     "metadata": {},
     "output_type": "execute_result"
    }
   ],
   "source": [
    "talk('是的')"
   ]
  },
  {
   "cell_type": "code",
   "execution_count": 12,
   "metadata": {
    "ExecuteTime": {
     "end_time": "2019-12-31T08:32:45.225865Z",
     "start_time": "2019-12-31T08:32:45.167974Z"
    }
   },
   "outputs": [
    {
     "name": "stdout",
     "output_type": "stream",
     "text": [
      "status code: 200\n"
     ]
    },
    {
     "data": {
      "text/plain": [
       "[{'recipient_id': 'default', 'text': '再见'}]"
      ]
     },
     "execution_count": 12,
     "metadata": {},
     "output_type": "execute_result"
    }
   ],
   "source": [
    "talk('bye')"
   ]
  }
 ],
 "metadata": {
  "kernelspec": {
   "display_name": "Python 3",
   "language": "python",
   "name": "python3"
  },
  "language_info": {
   "codemirror_mode": {
    "name": "ipython",
    "version": 3
   },
   "file_extension": ".py",
   "mimetype": "text/x-python",
   "name": "python",
   "nbconvert_exporter": "python",
   "pygments_lexer": "ipython3",
   "version": "3.6.9"
  },
  "varInspector": {
   "cols": {
    "lenName": 16,
    "lenType": 16,
    "lenVar": 40
   },
   "kernels_config": {
    "python": {
     "delete_cmd_postfix": "",
     "delete_cmd_prefix": "del ",
     "library": "var_list.py",
     "varRefreshCmd": "print(var_dic_list())"
    },
    "r": {
     "delete_cmd_postfix": ") ",
     "delete_cmd_prefix": "rm(",
     "library": "var_list.r",
     "varRefreshCmd": "cat(var_dic_list()) "
    }
   },
   "types_to_exclude": [
    "module",
    "function",
    "builtin_function_or_method",
    "instance",
    "_Feature"
   ],
   "window_display": false
  }
 },
 "nbformat": 4,
 "nbformat_minor": 2
}
