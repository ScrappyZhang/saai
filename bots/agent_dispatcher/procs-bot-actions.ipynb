{
 "cells": [
  {
   "cell_type": "markdown",
   "metadata": {},
   "source": [
    "### preqs\n",
    "```bash\n",
    "# saai\n",
    "$ start nlu_multilang\n",
    "\n",
    "# agent-dispatcher\n",
    "$ start servant_nlu\n",
    "$ start agent\n",
    "$ start actions\n",
    "```"
   ]
  },
  {
   "cell_type": "code",
   "execution_count": 3,
   "metadata": {
    "ExecuteTime": {
     "end_time": "2020-01-28T20:54:35.907262Z",
     "start_time": "2020-01-28T20:54:29.124835Z"
    }
   },
   "outputs": [
    {
     "name": "stdout",
     "output_type": "stream",
     "text": [
      "status code: 200\n",
      "[{'recipient_id': 'default', 'text': 'Hey! How are you?'}]\n"
     ]
    }
   ],
   "source": [
    "import requests\n",
    "from pprint import pprint\n",
    "def talk(sents, sender='default', port=5005):\n",
    "    response = requests.post(f'http://localhost:{port}/webhooks/rest/webhook',\n",
    "                             json={'message': sents, 'sender':sender})\n",
    "    print('status code:', response.status_code)\n",
    "    pprint(response.json())\n",
    "    \n",
    "talk('hi')"
   ]
  },
  {
   "cell_type": "code",
   "execution_count": 4,
   "metadata": {
    "ExecuteTime": {
     "end_time": "2020-01-28T20:54:47.527758Z",
     "start_time": "2020-01-28T20:54:47.233965Z"
    }
   },
   "outputs": [
    {
     "name": "stdout",
     "output_type": "stream",
     "text": [
      "status code: 200\n",
      "[{'custom': {'product_list': ['first prod', 'second prod'],\n",
      "             'result': 'success'},\n",
      "  'recipient_id': 'default'}]\n"
     ]
    }
   ],
   "source": [
    "talk('list some products')"
   ]
  },
  {
   "cell_type": "code",
   "execution_count": 23,
   "metadata": {
    "ExecuteTime": {
     "end_time": "2020-01-28T20:05:34.319346Z",
     "start_time": "2020-01-28T20:05:34.267183Z"
    }
   },
   "outputs": [
    {
     "name": "stdout",
     "output_type": "stream",
     "text": [
      "[{'custom': {'media_list': ['first song', 'second song'],\n",
      "             'media_type': 'music',\n",
      "             'result': 'success',\n",
      "             'sents': 'hi'},\n",
      "  'recipient_id': 'default'}]\n"
     ]
    }
   ],
   "source": [
    "# preq: \n",
    "# $ rasa run --enable-api -v\n",
    "# $ rasa run actions\n",
    "\n",
    "port=5005\n",
    "values={\"object_type\": 'music',\n",
    "        \"sents\":'hi',\n",
    "        'parameters': []}\n",
    "values_str=json.dumps(values, ensure_ascii=False)\n",
    "# text = f'/{ac[\"intent\"]}{{\"object_type\": \"{ac[\"object_type\"]}\", \"sents\":\"{ac[\"sents\"]}\"}}'\n",
    "text = f'/ask_perform_media{values_str}'\n",
    "data = {'sender': 'default', \"message\": text}\n",
    "response = requests.post(f'http://localhost:{port}/webhooks/rest/webhook', json=data)\n",
    "# print('status code:', response.status_code)\n",
    "if response.status_code==200:\n",
    "    pprint(response.json())"
   ]
  }
 ],
 "metadata": {
  "kernelspec": {
   "display_name": "Python 3",
   "language": "python",
   "name": "python3"
  },
  "language_info": {
   "codemirror_mode": {
    "name": "ipython",
    "version": 3
   },
   "file_extension": ".py",
   "mimetype": "text/x-python",
   "name": "python",
   "nbconvert_exporter": "python",
   "pygments_lexer": "ipython3",
   "version": "3.6.9"
  },
  "varInspector": {
   "cols": {
    "lenName": 16,
    "lenType": 16,
    "lenVar": 40
   },
   "kernels_config": {
    "python": {
     "delete_cmd_postfix": "",
     "delete_cmd_prefix": "del ",
     "library": "var_list.py",
     "varRefreshCmd": "print(var_dic_list())"
    },
    "r": {
     "delete_cmd_postfix": ") ",
     "delete_cmd_prefix": "rm(",
     "library": "var_list.r",
     "varRefreshCmd": "cat(var_dic_list()) "
    }
   },
   "types_to_exclude": [
    "module",
    "function",
    "builtin_function_or_method",
    "instance",
    "_Feature"
   ],
   "window_display": false
  }
 },
 "nbformat": 4,
 "nbformat_minor": 2
}
