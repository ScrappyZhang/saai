{
 "cells": [
  {
   "cell_type": "code",
   "execution_count": 1,
   "metadata": {
    "ExecuteTime": {
     "end_time": "2020-01-20T17:02:18.812761Z",
     "start_time": "2020-01-20T17:02:18.805147Z"
    }
   },
   "outputs": [],
   "source": [
    "import sys\n",
    "sys.path.append('/pi/ws/sagas-ai/bots/agent_dispatcher')"
   ]
  },
  {
   "cell_type": "code",
   "execution_count": 9,
   "metadata": {
    "ExecuteTime": {
     "end_time": "2020-01-20T16:37:37.565182Z",
     "start_time": "2020-01-20T16:37:37.559874Z"
    }
   },
   "outputs": [],
   "source": [
    "# from inspectors.cust_entity_inspector import CustEntityInspector"
   ]
  },
  {
   "cell_type": "code",
   "execution_count": 10,
   "metadata": {
    "ExecuteTime": {
     "end_time": "2020-01-20T17:14:59.131289Z",
     "start_time": "2020-01-20T17:14:59.122152Z"
    }
   },
   "outputs": [
    {
     "data": {
      "text/plain": [
       "'/Users/xiaofeiwu/jcloud/assets/langs/workspace/rasa/rasa-1.x/ws/sagas-ai/notebook'"
      ]
     },
     "execution_count": 10,
     "metadata": {},
     "output_type": "execute_result"
    }
   ],
   "source": [
    "import os\n",
    "os.path.abspath('.')"
   ]
  },
  {
   "cell_type": "code",
   "execution_count": 6,
   "metadata": {
    "ExecuteTime": {
     "end_time": "2020-01-20T17:12:17.754886Z",
     "start_time": "2020-01-20T17:12:17.731915Z"
    }
   },
   "outputs": [
    {
     "data": {
      "text/plain": [
       "'cust_ents'"
      ]
     },
     "execution_count": 6,
     "metadata": {},
     "output_type": "execute_result"
    }
   ],
   "source": [
    "from sagas.nlu.rules_lang_spec import class_from_module_path\n",
    "c=class_from_module_path('inspectors.cust_entity_inspector.CustEntityInspector')\n",
    "c('food').name()"
   ]
  },
  {
   "cell_type": "code",
   "execution_count": 9,
   "metadata": {
    "ExecuteTime": {
     "end_time": "2020-01-20T17:13:01.660820Z",
     "start_time": "2020-01-20T17:13:01.652621Z"
    }
   },
   "outputs": [
    {
     "data": {
      "text/plain": [
       "rulesets.rules_es.Rules_es"
      ]
     },
     "execution_count": 9,
     "metadata": {},
     "output_type": "execute_result"
    }
   ],
   "source": [
    "c=class_from_module_path('rulesets.rules_es.Rules_es')\n",
    "c"
   ]
  },
  {
   "cell_type": "code",
   "execution_count": 10,
   "metadata": {
    "ExecuteTime": {
     "end_time": "2020-01-20T16:50:52.412970Z",
     "start_time": "2020-01-20T16:50:52.402143Z"
    }
   },
   "outputs": [
    {
     "data": {
      "text/plain": [
       "True"
      ]
     },
     "execution_count": 10,
     "metadata": {},
     "output_type": "execute_result"
    }
   ],
   "source": [
    "import os\n",
    "os.path.exists('./procs-inspector-registry.ipynb')"
   ]
  },
  {
   "cell_type": "code",
   "execution_count": 4,
   "metadata": {
    "ExecuteTime": {
     "end_time": "2020-01-20T17:02:32.170355Z",
     "start_time": "2020-01-20T17:02:32.155435Z"
    }
   },
   "outputs": [
    {
     "name": "stdout",
     "output_type": "stream",
     "text": [
      "cust_ents inspectors.cust_entity_inspector.CustEntityInspector\n"
     ]
    },
    {
     "data": {
      "text/plain": [
       "inspectors.cust_entity_inspector.CustEntityInspector"
      ]
     },
     "execution_count": 4,
     "metadata": {},
     "output_type": "execute_result"
    }
   ],
   "source": [
    "class CustInspectors(object):\n",
    "    def __init__(self):\n",
    "        import json_utils\n",
    "        from sagas.nlu.rules_lang_spec import class_from_module_path\n",
    "        reg_file='/pi/ws/sagas-ai/bots/agent_dispatcher/assets/inspectors.json'\n",
    "        regs=json_utils.read_json_file(reg_file)\n",
    "        self.cls_map={}\n",
    "        for k,v in regs.items():\n",
    "            print(k,v)\n",
    "            c=class_from_module_path(v)\n",
    "            self.cls_map[k]=c\n",
    "    def __getattr__(self, clz):\n",
    "        if clz in self.cls_map:\n",
    "            return self.cls_map[clz]\n",
    "        else:\n",
    "            raise ValueError(f\"Cannot find such class item {clz}\")\n",
    "\n",
    "ci=CustInspectors()\n",
    "ci.cust_ents"
   ]
  },
  {
   "cell_type": "code",
   "execution_count": 5,
   "metadata": {
    "ExecuteTime": {
     "end_time": "2020-01-20T17:02:37.330959Z",
     "start_time": "2020-01-20T17:02:37.321836Z"
    }
   },
   "outputs": [
    {
     "data": {
      "text/plain": [
       "'cust_ents'"
      ]
     },
     "execution_count": 5,
     "metadata": {},
     "output_type": "execute_result"
    }
   ],
   "source": [
    "ci.cust_ents('food').name()"
   ]
  }
 ],
 "metadata": {
  "kernelspec": {
   "display_name": "Python 3",
   "language": "python",
   "name": "python3"
  },
  "language_info": {
   "codemirror_mode": {
    "name": "ipython",
    "version": 3
   },
   "file_extension": ".py",
   "mimetype": "text/x-python",
   "name": "python",
   "nbconvert_exporter": "python",
   "pygments_lexer": "ipython3",
   "version": "3.6.9"
  },
  "varInspector": {
   "cols": {
    "lenName": 16,
    "lenType": 16,
    "lenVar": 40
   },
   "kernels_config": {
    "python": {
     "delete_cmd_postfix": "",
     "delete_cmd_prefix": "del ",
     "library": "var_list.py",
     "varRefreshCmd": "print(var_dic_list())"
    },
    "r": {
     "delete_cmd_postfix": ") ",
     "delete_cmd_prefix": "rm(",
     "library": "var_list.r",
     "varRefreshCmd": "cat(var_dic_list()) "
    }
   },
   "types_to_exclude": [
    "module",
    "function",
    "builtin_function_or_method",
    "instance",
    "_Feature"
   ],
   "window_display": false
  }
 },
 "nbformat": 4,
 "nbformat_minor": 2
}
