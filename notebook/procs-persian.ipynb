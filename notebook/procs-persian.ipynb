{
 "cells": [
  {
   "cell_type": "markdown",
   "metadata": {},
   "source": [
    "⊕ [sobhe/hazm: Python library for digesting Persian text.](https://github.com/sobhe/hazm)\n"
   ]
  },
  {
   "cell_type": "code",
   "execution_count": null,
   "metadata": {
    "ExecuteTime": {
     "end_time": "2020-02-26T22:15:52.919441Z",
     "start_time": "2020-02-26T22:15:51.883711Z"
    }
   },
   "outputs": [],
   "source": [
    ">>> from __future__ import unicode_literals\n",
    ">>> from hazm import *\n",
    "\n",
    ">>> normalizer = Normalizer()\n",
    ">>> normalizer.normalize('اصلاح نويسه ها و استفاده از نیم‌فاصله پردازش را آسان مي كند')"
   ]
  },
  {
   "cell_type": "code",
   "execution_count": null,
   "metadata": {
    "ExecuteTime": {
     "end_time": "2020-02-26T22:16:41.070083Z",
     "start_time": "2020-02-26T22:16:41.060173Z"
    }
   },
   "outputs": [],
   "source": [
    ">>> sent_tokenize('ما هم برای وصل کردن آمدیم! ولی برای پردازش، جدا بهتر نیست؟')"
   ]
  },
  {
   "cell_type": "code",
   "execution_count": null,
   "metadata": {
    "ExecuteTime": {
     "end_time": "2020-02-26T22:16:51.440408Z",
     "start_time": "2020-02-26T22:16:51.176234Z"
    }
   },
   "outputs": [],
   "source": [
    "word_tokenize('ولی برای پردازش، جدا بهتر نیست؟')"
   ]
  },
  {
   "cell_type": "code",
   "execution_count": null,
   "metadata": {
    "ExecuteTime": {
     "end_time": "2020-02-26T22:16:59.933127Z",
     "start_time": "2020-02-26T22:16:59.921595Z"
    }
   },
   "outputs": [],
   "source": [
    ">>> stemmer = Stemmer()\n",
    ">>> stemmer.stem('کتاب‌ها')"
   ]
  },
  {
   "cell_type": "code",
   "execution_count": null,
   "metadata": {
    "ExecuteTime": {
     "end_time": "2020-02-26T22:17:09.536859Z",
     "start_time": "2020-02-26T22:17:09.291335Z"
    }
   },
   "outputs": [],
   "source": [
    ">>> lemmatizer = Lemmatizer()\n",
    ">>> lemmatizer.lemmatize('می‌روم')"
   ]
  },
  {
   "cell_type": "code",
   "execution_count": 1,
   "metadata": {
    "ExecuteTime": {
     "end_time": "2020-02-26T22:18:33.523222Z",
     "start_time": "2020-02-26T22:18:33.415026Z"
    }
   },
   "outputs": [
    {
     "ename": "NameError",
     "evalue": "name 'POSTagger' is not defined",
     "output_type": "error",
     "traceback": [
      "\u001b[0;31m---------------------------------------------------------------------------\u001b[0m",
      "\u001b[0;31mNameError\u001b[0m                                 Traceback (most recent call last)",
      "\u001b[0;32m<ipython-input-1-6675527dc37d>\u001b[0m in \u001b[0;36m<module>\u001b[0;34m\u001b[0m\n\u001b[1;32m      1\u001b[0m \u001b[0;31m# fail\u001b[0m\u001b[0;34m\u001b[0m\u001b[0;34m\u001b[0m\u001b[0;34m\u001b[0m\u001b[0m\n\u001b[0;32m----> 2\u001b[0;31m \u001b[0mtagger\u001b[0m \u001b[0;34m=\u001b[0m \u001b[0mPOSTagger\u001b[0m\u001b[0;34m(\u001b[0m\u001b[0mmodel\u001b[0m\u001b[0;34m=\u001b[0m\u001b[0;34m'resources/postagger.model'\u001b[0m\u001b[0;34m)\u001b[0m\u001b[0;34m\u001b[0m\u001b[0;34m\u001b[0m\u001b[0m\n\u001b[0m\u001b[1;32m      3\u001b[0m \u001b[0mtagger\u001b[0m\u001b[0;34m.\u001b[0m\u001b[0mtag\u001b[0m\u001b[0;34m(\u001b[0m\u001b[0mword_tokenize\u001b[0m\u001b[0;34m(\u001b[0m\u001b[0;34m'ما بسیار کتاب می‌خوانیم'\u001b[0m\u001b[0;34m)\u001b[0m\u001b[0;34m)\u001b[0m\u001b[0;34m\u001b[0m\u001b[0;34m\u001b[0m\u001b[0m\n",
      "\u001b[0;31mNameError\u001b[0m: name 'POSTagger' is not defined"
     ]
    }
   ],
   "source": [
    "# fail\n",
    ">>> tagger = POSTagger(model='resources/postagger.model')\n",
    ">>> tagger.tag(word_tokenize('ما بسیار کتاب می‌خوانیم'))"
   ]
  },
  {
   "cell_type": "code",
   "execution_count": null,
   "metadata": {
    "ExecuteTime": {
     "start_time": "2020-02-26T22:18:18.195Z"
    }
   },
   "outputs": [],
   "source": [
    "# fail\n",
    ">>> from __future__ import unicode_literals\n",
    ">>> from hazm import *\n",
    ">>> chunker = Chunker(model='resources/chunker.model')\n",
    ">>> tagged = tagger.tag(word_tokenize('کتاب خواندن را دوست داریم'))\n",
    ">>> tree2brackets(chunker.parse(tagged))"
   ]
  }
 ],
 "metadata": {
  "kernelspec": {
   "display_name": "Python 3",
   "language": "python",
   "name": "python3"
  },
  "language_info": {
   "codemirror_mode": {
    "name": "ipython",
    "version": 3
   },
   "file_extension": ".py",
   "mimetype": "text/x-python",
   "name": "python",
   "nbconvert_exporter": "python",
   "pygments_lexer": "ipython3",
   "version": "3.6.9"
  },
  "varInspector": {
   "cols": {
    "lenName": 16,
    "lenType": 16,
    "lenVar": 40
   },
   "kernels_config": {
    "python": {
     "delete_cmd_postfix": "",
     "delete_cmd_prefix": "del ",
     "library": "var_list.py",
     "varRefreshCmd": "print(var_dic_list())"
    },
    "r": {
     "delete_cmd_postfix": ") ",
     "delete_cmd_prefix": "rm(",
     "library": "var_list.r",
     "varRefreshCmd": "cat(var_dic_list()) "
    }
   },
   "types_to_exclude": [
    "module",
    "function",
    "builtin_function_or_method",
    "instance",
    "_Feature"
   ],
   "window_display": false
  }
 },
 "nbformat": 4,
 "nbformat_minor": 2
}
