{
 "cells": [
  {
   "cell_type": "code",
   "execution_count": 3,
   "metadata": {
    "ExecuteTime": {
     "end_time": "2020-02-18T22:20:35.419977Z",
     "start_time": "2020-02-18T22:20:34.851664Z"
    }
   },
   "outputs": [
    {
     "name": "stdout",
     "output_type": "stream",
     "text": [
      "(en) wolf is animal {'result': 'success', 'data': {'result': True}}\n"
     ]
    }
   ],
   "source": [
    "import requests\n",
    "from sagas.conf.conf import cf\n",
    "\n",
    "data={'word': 'wolf', 'lang': 'en', 'pos': 'n',\n",
    "                   'kind':'animal', 'only_first':False}\n",
    "response = requests.post(f'{cf.ensure(\"words_servant\")}/predicate',\n",
    "                         json=data)\n",
    "if response.status_code == 200:\n",
    "    print('(%s) %s is %s'%(data['lang'], data['word'], data['kind']),\n",
    "          {'result': 'success', 'data': response.json()})\n",
    "else:\n",
    "    print({'result': 'fail'})"
   ]
  },
  {
   "cell_type": "code",
   "execution_count": 4,
   "metadata": {
    "ExecuteTime": {
     "end_time": "2020-02-18T22:21:01.272930Z",
     "start_time": "2020-02-18T22:21:01.253404Z"
    }
   },
   "outputs": [
    {
     "name": "stdout",
     "output_type": "stream",
     "text": [
      "(en) eat is have {'result': 'success', 'data': {'result': True}}\n"
     ]
    }
   ],
   "source": [
    "data={'word': 'eat', 'lang': 'en', 'pos': 'v',\n",
    "                   'kind':'have', 'only_first':False}\n",
    "response = requests.post(f'{cf.ensure(\"words_servant\")}/predicate',\n",
    "                         json=data)\n",
    "if response.status_code == 200:\n",
    "    print('(%s) %s is %s'%(data['lang'], data['word'], data['kind']),\n",
    "          {'result': 'success', 'data': response.json()})\n",
    "else:\n",
    "    print({'result': 'fail'})"
   ]
  },
  {
   "cell_type": "code",
   "execution_count": 6,
   "metadata": {
    "ExecuteTime": {
     "end_time": "2020-02-18T22:25:35.773969Z",
     "start_time": "2020-02-18T22:25:32.998958Z"
    }
   },
   "outputs": [
    {
     "data": {
      "text/plain": [
       "True"
      ]
     },
     "execution_count": 6,
     "metadata": {},
     "output_type": "execute_result"
    }
   ],
   "source": [
    "from sagas.nlu.wordnet_procs import WordNetProcs\n",
    "word='eat'\n",
    "kind='have'\n",
    "lang='en'\n",
    "pos='*'\n",
    "only_first=False\n",
    "\n",
    "procs = WordNetProcs()\n",
    "r = procs.predicate(word, kind, lang=lang,\n",
    "                    pos=None if pos=='*' else pos,\n",
    "                    only_first=only_first)\n",
    "r"
   ]
  },
  {
   "cell_type": "code",
   "execution_count": 8,
   "metadata": {
    "ExecuteTime": {
     "end_time": "2020-02-18T22:26:32.390409Z",
     "start_time": "2020-02-18T22:26:32.378389Z"
    }
   },
   "outputs": [
    {
     "data": {
      "text/plain": [
       "['eat.v.01',\n",
       " 'eat.v.02',\n",
       " 'feed.v.06',\n",
       " 'eat.v.04',\n",
       " 'consume.v.05',\n",
       " 'corrode.v.01']"
      ]
     },
     "execution_count": 8,
     "metadata": {},
     "output_type": "execute_result"
    }
   ],
   "source": [
    "from sagas.nlu.omw_extended import get_synsets\n",
    "sets = get_synsets(lang, word, pos)\n",
    "c=[s.name() for s in sets]\n",
    "c"
   ]
  },
  {
   "cell_type": "code",
   "execution_count": 11,
   "metadata": {
    "ExecuteTime": {
     "end_time": "2020-02-18T22:28:46.511750Z",
     "start_time": "2020-02-18T22:28:46.498078Z"
    }
   },
   "outputs": [
    {
     "data": {
      "text/plain": [
       "['eat',\n",
       " '吃',\n",
       " '吃东西',\n",
       " '食',\n",
       " 'consume',\n",
       " 'ingest',\n",
       " 'take_in',\n",
       " 'take',\n",
       " 'have',\n",
       " 'eat',\n",
       " 'eat',\n",
       " 'consume',\n",
       " 'ingest',\n",
       " 'take_in',\n",
       " 'take',\n",
       " 'have',\n",
       " 'feed',\n",
       " 'eat',\n",
       " 'consume',\n",
       " 'ingest',\n",
       " 'take_in',\n",
       " 'take',\n",
       " 'have',\n",
       " 'eat',\n",
       " 'eat_on',\n",
       " 'worry',\n",
       " 'vex',\n",
       " 'perturb',\n",
       " 'unhinge',\n",
       " 'disquiet',\n",
       " 'trouble',\n",
       " 'cark',\n",
       " 'distract',\n",
       " 'disorder',\n",
       " '使烦恼',\n",
       " '弄昏',\n",
       " 'disturb',\n",
       " 'upset',\n",
       " 'trouble',\n",
       " '使不适',\n",
       " '使心烦',\n",
       " '打扰',\n",
       " '扰乱',\n",
       " 'affect',\n",
       " 'impress',\n",
       " 'move',\n",
       " 'strike',\n",
       " '影响',\n",
       " '感动',\n",
       " '感染',\n",
       " '鼓动',\n",
       " 'consume',\n",
       " 'eat_up',\n",
       " 'use_up',\n",
       " 'eat',\n",
       " 'deplete',\n",
       " 'exhaust',\n",
       " 'run_through',\n",
       " 'wipe_out',\n",
       " 'spend',\n",
       " 'expend',\n",
       " 'drop',\n",
       " '消耗',\n",
       " '用去',\n",
       " '花',\n",
       " '花去',\n",
       " '花费',\n",
       " 'pay',\n",
       " '付',\n",
       " '付款',\n",
       " '付给',\n",
       " '支付',\n",
       " '纳',\n",
       " '给钱',\n",
       " 'give',\n",
       " '交付',\n",
       " '交给',\n",
       " '付出',\n",
       " '供给',\n",
       " '给',\n",
       " '给予',\n",
       " '递',\n",
       " 'transfer',\n",
       " '转让',\n",
       " '过户',\n",
       " 'corrode',\n",
       " 'eat',\n",
       " 'rust',\n",
       " 'damage',\n",
       " 'change',\n",
       " 'alter',\n",
       " 'modify',\n",
       " '修改',\n",
       " '引起变化',\n",
       " '改变']"
      ]
     },
     "execution_count": 11,
     "metadata": {},
     "output_type": "execute_result"
    }
   ],
   "source": [
    "from nltk.corpus import wordnet as wn\n",
    "hyper = lambda s: s.hypernyms()\n",
    "\n",
    "def get_all_keys(synsets:list):\n",
    "    keys = []\n",
    "    for synset in synsets:\n",
    "        c = wn.synset(synset)\n",
    "        for c_c in [c]+list(c.closure(hyper)):\n",
    "            # print(c_c.name(), c_c.lemma_names('eng'), c_c.lemma_names('cmn'))\n",
    "            keys.extend(c_c.lemma_names('eng'))\n",
    "            keys.extend(c_c.lemma_names('cmn'))\n",
    "    return (keys)\n",
    "\n",
    "get_all_keys(c)"
   ]
  }
 ],
 "metadata": {
  "kernelspec": {
   "display_name": "Python 3",
   "language": "python",
   "name": "python3"
  },
  "language_info": {
   "codemirror_mode": {
    "name": "ipython",
    "version": 3
   },
   "file_extension": ".py",
   "mimetype": "text/x-python",
   "name": "python",
   "nbconvert_exporter": "python",
   "pygments_lexer": "ipython3",
   "version": "3.6.9"
  },
  "varInspector": {
   "cols": {
    "lenName": 16,
    "lenType": 16,
    "lenVar": 40
   },
   "kernels_config": {
    "python": {
     "delete_cmd_postfix": "",
     "delete_cmd_prefix": "del ",
     "library": "var_list.py",
     "varRefreshCmd": "print(var_dic_list())"
    },
    "r": {
     "delete_cmd_postfix": ") ",
     "delete_cmd_prefix": "rm(",
     "library": "var_list.r",
     "varRefreshCmd": "cat(var_dic_list()) "
    }
   },
   "types_to_exclude": [
    "module",
    "function",
    "builtin_function_or_method",
    "instance",
    "_Feature"
   ],
   "window_display": false
  }
 },
 "nbformat": 4,
 "nbformat_minor": 2
}
