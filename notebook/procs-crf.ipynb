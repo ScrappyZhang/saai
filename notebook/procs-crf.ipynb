{
 "cells": [
  {
   "cell_type": "markdown",
   "metadata": {},
   "source": [
    "# NER CRF Example\n",
    "\n",
    "### Install required packages\n",
    "\n",
    "* nltk\n",
    "* python-crfsuite"
   ]
  },
  {
   "cell_type": "code",
   "execution_count": null,
   "metadata": {},
   "outputs": [],
   "source": [
    "#optional, if you have installed those python modules, you can skip this stsp.\n",
    "!pip install nltk\n",
    "!pip install python-crfsuite\n",
    "!python -m nltk.downloader all"
   ]
  },
  {
   "cell_type": "markdown",
   "metadata": {},
   "source": [
    "Now, we need to import those packages into our code"
   ]
  },
  {
   "cell_type": "code",
   "execution_count": 1,
   "metadata": {
    "ExecuteTime": {
     "end_time": "2020-01-20T06:01:08.700213Z",
     "start_time": "2020-01-20T06:01:07.610276Z"
    }
   },
   "outputs": [],
   "source": [
    "import nltk\n",
    "import pycrfsuite"
   ]
  },
  {
   "cell_type": "code",
   "execution_count": 2,
   "metadata": {
    "ExecuteTime": {
     "end_time": "2020-01-20T06:01:10.742263Z",
     "start_time": "2020-01-20T06:01:10.722485Z"
    }
   },
   "outputs": [
    {
     "data": {
      "text/plain": [
       "['train.txt', 'test.txt']"
      ]
     },
     "execution_count": 2,
     "metadata": {},
     "output_type": "execute_result"
    }
   ],
   "source": [
    "# list all files under the conll2000 dataset\n",
    "nltk.corpus.conll2000.fileids()"
   ]
  },
  {
   "cell_type": "markdown",
   "metadata": {},
   "source": [
    "### Get the training data and testing data. \n",
    "\n",
    "The data includes a lot of sentences which have been tokenized and tagged in IOB(Inside–outside–beginning) format.\n",
    "\n",
    "\n",
    "```\n",
    "Alex B-PER\n",
    "is O\n",
    "going O\n",
    "to O\n",
    "Los B-LOC\n",
    "Angeles I-LOC\n",
    "```"
   ]
  },
  {
   "cell_type": "code",
   "execution_count": 3,
   "metadata": {
    "ExecuteTime": {
     "end_time": "2020-01-20T06:01:21.396712Z",
     "start_time": "2020-01-20T06:01:19.485241Z"
    }
   },
   "outputs": [
    {
     "name": "stdout",
     "output_type": "stream",
     "text": [
      "[('Confidence', 'NN', 'B-NP'), ('in', 'IN', 'B-PP'), ('the', 'DT', 'B-NP'), ('pound', 'NN', 'I-NP'), ('is', 'VBZ', 'B-VP'), ('widely', 'RB', 'I-VP'), ('expected', 'VBN', 'I-VP'), ('to', 'TO', 'I-VP'), ('take', 'VB', 'I-VP'), ('another', 'DT', 'B-NP'), ('sharp', 'JJ', 'I-NP'), ('dive', 'NN', 'I-NP'), ('if', 'IN', 'B-SBAR'), ('trade', 'NN', 'B-NP'), ('figures', 'NNS', 'I-NP'), ('for', 'IN', 'B-PP'), ('September', 'NNP', 'B-NP'), (',', ',', 'O'), ('due', 'JJ', 'B-ADJP'), ('for', 'IN', 'B-PP'), ('release', 'NN', 'B-NP'), ('tomorrow', 'NN', 'B-NP'), (',', ',', 'O'), ('fail', 'VB', 'B-VP'), ('to', 'TO', 'I-VP'), ('show', 'VB', 'I-VP'), ('a', 'DT', 'B-NP'), ('substantial', 'JJ', 'I-NP'), ('improvement', 'NN', 'I-NP'), ('from', 'IN', 'B-PP'), ('July', 'NNP', 'B-NP'), ('and', 'CC', 'I-NP'), ('August', 'NNP', 'I-NP'), (\"'s\", 'POS', 'B-NP'), ('near-record', 'JJ', 'I-NP'), ('deficits', 'NNS', 'I-NP'), ('.', '.', 'O')]\n"
     ]
    }
   ],
   "source": [
    "train_sent = list(nltk.corpus.conll2000.iob_sents('train.txt'))\n",
    "test_sent = list(nltk.corpus.conll2000.iob_sents('test.txt'))\n",
    "\n",
    "# see the first sentences\n",
    "print(train_sent[0])"
   ]
  },
  {
   "cell_type": "markdown",
   "metadata": {},
   "source": [
    "### Define a function that can convert the sentence to the text feature. \n",
    "\n",
    "我們會觀察前後字然後納為特徵"
   ]
  },
  {
   "cell_type": "code",
   "execution_count": 4,
   "metadata": {
    "ExecuteTime": {
     "end_time": "2020-01-20T06:05:25.743161Z",
     "start_time": "2020-01-20T06:05:25.727285Z"
    }
   },
   "outputs": [],
   "source": [
    "def word2features(sent, i):\n",
    "    word = sent[i][0] #token\n",
    "    postag = sent[i][1]\n",
    "    features = [\n",
    "        'bias',\n",
    "        'word.lower=' + word.lower(),\n",
    "        'word[-3:]=' + word[-3:],\n",
    "        'word[-2:]=' + word[-2:],\n",
    "        'word.isupper=%s' % word.isupper(),\n",
    "        'word.istitle=%s' % word.istitle(),\n",
    "        'word.isdigit=%s' % word.isdigit(),\n",
    "        'postag=' + postag,\n",
    "        'postag[:2]=' + postag[:2]\n",
    "    ]\n",
    "    \n",
    "    # look up the previous word\n",
    "    if i > 0:\n",
    "        word1 =sent[i - 1][0]\n",
    "        postag1 = sent[i - 1][1]\n",
    "        features.extend([\n",
    "            '-1:word.lower=' + word1.lower(),\n",
    "            '-1:word.istitle=%s' % word1.istitle(),\n",
    "            '-1:word.isupper=%s' % word1.isupper(),\n",
    "            '-1:postag=' + postag1,\n",
    "            '-1:postag[:2]=' + postag[:2] #we're interested in normal form \n",
    "        ])\n",
    "    else:\n",
    "        features.append('BOS')\n",
    "        \n",
    "    # loop up the next wrd\n",
    "    if i < len(sent) -1:\n",
    "        word2 = sent[i + 1][0]\n",
    "        postag2 = sent[i + 1][1]\n",
    "        features.extend([\n",
    "            '+1:word.lower=' + word2.lower(),\n",
    "            '+1:word.istitle=%s' % word2.istitle(),\n",
    "            '+1:word.isupper=%s' % word2.isupper(),\n",
    "            '+1:postag=' + postag2,\n",
    "            '+1:postag[:2]=' +postag2[:2]\n",
    "        ])\n",
    "    else:\n",
    "        features.append('EOS')\n",
    "    return features\n",
    "    \n",
    "def sent2features(sent):\n",
    "    return [ word2features(sent,i) for i in range(len(sent)) ]\n",
    "    \n",
    "def sent2labels(sent):\n",
    "    return [ label for token, pos, label in sent]\n",
    "\n",
    "def sent2tokens(sent):\n",
    "    return [ token for token, pos, label in sent]"
   ]
  },
  {
   "cell_type": "markdown",
   "metadata": {},
   "source": [
    "### Implement our training function"
   ]
  },
  {
   "cell_type": "code",
   "execution_count": 5,
   "metadata": {
    "ExecuteTime": {
     "end_time": "2020-01-20T06:05:32.372383Z",
     "start_time": "2020-01-20T06:05:32.357612Z"
    }
   },
   "outputs": [],
   "source": [
    "def train():\n",
    "    X_train = [ sent2features(s) for s in train_sent]\n",
    "    Y_train = [ sent2labels(s) for s in train_sent]\n",
    "    \n",
    "    trainer = pycrfsuite.Trainer(verbose=False)\n",
    "    trainer.set_params({\n",
    "        'c1': 1.0,\n",
    "        'c2': 1e-3,\n",
    "        'max_iterations': 50,\n",
    "        'feature.possible_transitions': True\n",
    "    })\n",
    "    \n",
    "    for xseq, yseq in zip(X_train, Y_train):\n",
    "        trainer.append(xseq, yseq)\n",
    "        \n",
    "    trainer.train('mytrain_model')"
   ]
  },
  {
   "cell_type": "code",
   "execution_count": 6,
   "metadata": {
    "ExecuteTime": {
     "end_time": "2020-01-20T06:06:09.179581Z",
     "start_time": "2020-01-20T06:05:35.000037Z"
    }
   },
   "outputs": [],
   "source": [
    "train()"
   ]
  },
  {
   "cell_type": "markdown",
   "metadata": {},
   "source": [
    "To use our model we just trained, we can cal .open() to load it."
   ]
  },
  {
   "cell_type": "code",
   "execution_count": 7,
   "metadata": {
    "ExecuteTime": {
     "end_time": "2020-01-20T06:06:19.479123Z",
     "start_time": "2020-01-20T06:06:19.471296Z"
    }
   },
   "outputs": [],
   "source": [
    "def predict():\n",
    "    tagger = pycrfsuite.Tagger()\n",
    "    tagger.open('mytrain_model')\n",
    "    example_set = test_sent[3]\n",
    "    print(' '.join(sent2tokens(example_set)), end='\\n\\n')\n",
    "    print(\"Predicted:\", ' '.join(tagger.tag(sent2features(example_set))))\n",
    "    print(\"Correct:  \", ' '.join(sent2labels(example_set)))"
   ]
  },
  {
   "cell_type": "code",
   "execution_count": 8,
   "metadata": {
    "ExecuteTime": {
     "end_time": "2020-01-20T06:06:21.779169Z",
     "start_time": "2020-01-20T06:06:21.769092Z"
    }
   },
   "outputs": [
    {
     "name": "stdout",
     "output_type": "stream",
     "text": [
      "Under the existing contract , Rockwell said , it has already delivered 793 of the shipsets to Boeing .\n",
      "\n",
      "Predicted: B-PP B-NP I-NP I-NP O B-NP B-VP O B-NP B-VP I-VP I-VP B-NP B-PP B-NP I-NP B-PP B-NP O\n",
      "Correct:   B-PP B-NP I-NP I-NP O B-NP B-VP O B-NP B-VP I-VP I-VP B-NP B-PP B-NP I-NP B-PP B-NP O\n"
     ]
    }
   ],
   "source": [
    "predict()"
   ]
  },
  {
   "cell_type": "code",
   "execution_count": null,
   "metadata": {},
   "outputs": [],
   "source": []
  }
 ],
 "metadata": {
  "kernelspec": {
   "display_name": "Python 3",
   "language": "python",
   "name": "python3"
  },
  "language_info": {
   "codemirror_mode": {
    "name": "ipython",
    "version": 3
   },
   "file_extension": ".py",
   "mimetype": "text/x-python",
   "name": "python",
   "nbconvert_exporter": "python",
   "pygments_lexer": "ipython3",
   "version": "3.6.9"
  },
  "varInspector": {
   "cols": {
    "lenName": 16,
    "lenType": 16,
    "lenVar": 40
   },
   "kernels_config": {
    "python": {
     "delete_cmd_postfix": "",
     "delete_cmd_prefix": "del ",
     "library": "var_list.py",
     "varRefreshCmd": "print(var_dic_list())"
    },
    "r": {
     "delete_cmd_postfix": ") ",
     "delete_cmd_prefix": "rm(",
     "library": "var_list.r",
     "varRefreshCmd": "cat(var_dic_list()) "
    }
   },
   "types_to_exclude": [
    "module",
    "function",
    "builtin_function_or_method",
    "instance",
    "_Feature"
   ],
   "window_display": false
  }
 },
 "nbformat": 4,
 "nbformat_minor": 2
}
