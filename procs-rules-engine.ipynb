{
 "cells": [
  {
   "cell_type": "code",
   "execution_count": 1,
   "metadata": {
    "ExecuteTime": {
     "end_time": "2019-12-06T08:20:11.431533Z",
     "start_time": "2019-12-06T08:20:11.401705Z"
    }
   },
   "outputs": [
    {
     "name": "stdout",
     "output_type": "stream",
     "text": [
      "test-> Hello World\n"
     ]
    },
    {
     "data": {
      "text/plain": [
       "{'sid': '0', 'id': 'sid-0', '$s': 1}"
      ]
     },
     "execution_count": 1,
     "metadata": {},
     "output_type": "execute_result"
    }
   ],
   "source": [
    "from durable.lang import *\n",
    "import threading\n",
    "import time\n",
    "import datetime\n",
    "\n",
    "with ruleset('test'):\n",
    "    # antecedent\n",
    "    @when_all(m.subject == 'World')\n",
    "    def say_hello(c):\n",
    "        # consequent\n",
    "        print('test-> Hello {0}'.format(c.m.subject))\n",
    "\n",
    "post('test', { 'subject': 'World' })"
   ]
  },
  {
   "cell_type": "code",
   "execution_count": 2,
   "metadata": {
    "ExecuteTime": {
     "end_time": "2019-12-06T08:20:11.487386Z",
     "start_time": "2019-12-06T08:20:11.434664Z"
    }
   },
   "outputs": [
    {
     "name": "stdout",
     "output_type": "stream",
     "text": [
      "animal-> Fact: Kermit eats flies\n",
      "animal-> Fact: Kermit is green\n",
      "animal-> Fact: Kermit is frog\n",
      "animal-> Fact: Kermit lives water\n",
      "animal-> Fact: Greedy eats flies\n",
      "animal-> Fact: Greedy is grey\n",
      "animal-> Fact: Greedy is chameleon\n",
      "animal-> Fact: Greedy lives land\n",
      "animal-> Fact: Tweety is black\n",
      "animal-> Fact: Tweety is bird\n",
      "animal-> Fact: Tweety eats worms\n"
     ]
    },
    {
     "data": {
      "text/plain": [
       "{'sid': '0', 'id': 'sid-0', '$s': 1}"
      ]
     },
     "execution_count": 2,
     "metadata": {},
     "output_type": "execute_result"
    }
   ],
   "source": [
    "with ruleset('animal'):\n",
    "    @when_all(c.first << (m.predicate == 'eats') & (m.object == 'flies'),\n",
    "              (m.predicate == 'lives') & (m.object == 'water') & (m.subject == c.first.subject))\n",
    "    def frog(c):\n",
    "        c.assert_fact({ 'subject': c.first.subject, 'predicate': 'is', 'object': 'frog' })\n",
    "\n",
    "    @when_all(c.first << (m.predicate == 'eats') & (m.object == 'flies'),\n",
    "              (m.predicate == 'lives') & (m.object == 'land') & (m.subject == c.first.subject))\n",
    "    def chameleon(c):\n",
    "        c.assert_fact({ 'subject': c.first.subject, 'predicate': 'is', 'object': 'chameleon' })\n",
    "\n",
    "    @when_all((m.predicate == 'eats') & (m.object == 'worms'))\n",
    "    def bird(c):\n",
    "        c.assert_fact({ 'subject': c.m.subject, 'predicate': 'is', 'object': 'bird' })\n",
    "\n",
    "    @when_all((m.predicate == 'is') & (m.object == 'frog'))\n",
    "    def green(c):\n",
    "        c.assert_fact({ 'subject': c.m.subject, 'predicate': 'is', 'object': 'green' })\n",
    "\n",
    "    @when_all((m.predicate == 'is') & (m.object == 'chameleon'))\n",
    "    def grey(c):\n",
    "        c.assert_fact({ 'subject': c.m.subject, 'predicate': 'is', 'object': 'grey' })\n",
    "\n",
    "    @when_all((m.predicate == 'is') & (m.object == 'bird'))\n",
    "    def black(c):\n",
    "        c.assert_fact({ 'subject': c.m.subject, 'predicate': 'is', 'object': 'black' })\n",
    "\n",
    "    @when_all(+m.subject)\n",
    "    def output(c):\n",
    "        print ('animal-> Fact: {0} {1} {2}'.format(c.m.subject, c.m.predicate, c.m.object))\n",
    "\n",
    "assert_fact('animal', { 'subject': 'Kermit', 'predicate': 'eats', 'object': 'flies' })\n",
    "assert_fact('animal', { 'subject': 'Kermit', 'predicate': 'lives', 'object': 'water' })\n",
    "assert_fact('animal', { 'subject': 'Greedy', 'predicate': 'eats', 'object': 'flies' })\n",
    "assert_fact('animal', { 'subject': 'Greedy', 'predicate': 'lives', 'object': 'land' })\n",
    "assert_fact('animal', { 'subject': 'Tweety', 'predicate': 'eats', 'object': 'worms' })\n"
   ]
  },
  {
   "cell_type": "code",
   "execution_count": 3,
   "metadata": {
    "ExecuteTime": {
     "end_time": "2019-12-06T08:20:11.504718Z",
     "start_time": "2019-12-06T08:20:11.490728Z"
    }
   },
   "outputs": [
    {
     "name": "stdout",
     "output_type": "stream",
     "text": [
      "expense5-> bill amount: 100\n",
      "expense5-> account payment amount: 100\n"
     ]
    },
    {
     "data": {
      "text/plain": [
       "{'sid': '0', 'id': 'sid-0', '$s': 1}"
      ]
     },
     "execution_count": 3,
     "metadata": {},
     "output_type": "execute_result"
    }
   ],
   "source": [
    "with ruleset('expense5'):\n",
    "    @when_all(c.bill << (m.t == 'bill') & (m.invoice.amount > 50),\n",
    "              c.account << (m.t == 'account') & (m.payment.invoice.amount == c.bill.invoice.amount))\n",
    "    def approved(c):\n",
    "        print ('expense5-> bill amount: {0}'.format(c.bill.invoice.amount))\n",
    "        print ('expense5-> account payment amount: {0}'.format(c.account.payment.invoice.amount))\n",
    "        \n",
    "post('expense5', {'t': 'bill', 'invoice': {'amount': 100}})\n",
    "post('expense5', {'t': 'account', 'payment': {'invoice': {'amount': 100}}})"
   ]
  },
  {
   "cell_type": "code",
   "execution_count": 4,
   "metadata": {
    "ExecuteTime": {
     "end_time": "2019-12-06T08:20:11.533876Z",
     "start_time": "2019-12-06T08:20:11.508206Z"
    }
   },
   "outputs": [
    {
     "name": "stdout",
     "output_type": "stream",
     "text": [
      "bookstore-> Added The new book\n"
     ]
    },
    {
     "data": {
      "text/plain": [
       "{'sid': '0', 'id': 'sid-0', '$s': 1}"
      ]
     },
     "execution_count": 4,
     "metadata": {},
     "output_type": "execute_result"
    }
   ],
   "source": [
    "with ruleset('bookstore'):\n",
    "    # this rule will trigger for events with status\n",
    "    @when_all(+m.status)\n",
    "    def event(c):\n",
    "        print('bookstore-> Reference {0} status {1}'.format(c.m.reference, c.m.status))\n",
    "\n",
    "    @when_all(+m.name)\n",
    "    def fact(c):\n",
    "        print('bookstore-> Added {0}'.format(c.m.name))\n",
    "        \n",
    "    # this rule will be triggered when the fact is retracted\n",
    "    @when_all(none(+m.name))\n",
    "    def empty(c):\n",
    "        print('bookstore-> No books')\n",
    "\n",
    "assert_fact('bookstore', {\n",
    "    'name': 'The new book',\n",
    "    'seller': 'bookstore',\n",
    "    'reference': '75323',\n",
    "    'price': 500\n",
    "})"
   ]
  },
  {
   "cell_type": "code",
   "execution_count": 1,
   "metadata": {
    "ExecuteTime": {
     "end_time": "2019-12-06T19:10:10.543332Z",
     "start_time": "2019-12-06T19:10:10.491219Z"
    }
   },
   "outputs": [
    {
     "name": "stdout",
     "output_type": "stream",
     "text": [
      "string contains hello (case insensitive) -> HELLO world\n",
      "string ends with hello -> world hello\n",
      "string contains hello (case insensitive) -> world hello\n",
      "string starts with hello -> hello hi\n",
      "string contains hello (case insensitive) -> hello hi\n",
      "string contains hello (case insensitive) -> has Hello string\n"
     ]
    },
    {
     "data": {
      "text/plain": [
       "{'sid': '0', 'id': 'sid-0', '$s': 1}"
      ]
     },
     "execution_count": 1,
     "metadata": {},
     "output_type": "execute_result"
    }
   ],
   "source": [
    "from durable.lang import *\n",
    "\n",
    "with ruleset('strings'):\n",
    "    @when_all(m.subject.matches('hello.*'))\n",
    "    def starts_with(c):\n",
    "        print ('string starts with hello -> {0}'.format(c.m.subject))\n",
    "\n",
    "    @when_all(m.subject.matches('.*hello'))\n",
    "    def ends_with(c):\n",
    "        print ('string ends with hello -> {0}'.format(c.m.subject))\n",
    "\n",
    "    @when_all(m.subject.imatches('.*hello.*'))\n",
    "    def contains(c):\n",
    "        print ('string contains hello (case insensitive) -> {0}'.format(c.m.subject))\n",
    "    \n",
    "assert_fact('strings', { 'subject': 'HELLO world' })\n",
    "assert_fact('strings', { 'subject': 'world hello' })\n",
    "assert_fact('strings', { 'subject': 'hello hi' })\n",
    "assert_fact('strings', { 'subject': 'has Hello string' })\n",
    "# assert_fact('strings', { 'subject': 'does not match' })\n"
   ]
  },
  {
   "cell_type": "code",
   "execution_count": 16,
   "metadata": {
    "ExecuteTime": {
     "end_time": "2019-12-07T22:20:37.179540Z",
     "start_time": "2019-12-07T22:20:37.159757Z"
    }
   },
   "outputs": [
    {
     "name": "stdout",
     "output_type": "stream",
     "text": [
      "string matches pat -> main.n.01, body_of_water.n.01, thing.n.12, physical_entity.n.01, entity.n.01\n",
      "amod pat -> ['main.n.01, body_of_water.n.01, thing.n.12, physical_entity.n.01, entity.n.01']\n"
     ]
    },
    {
     "data": {
      "text/plain": [
       "({'sid': '0', 'id': 'sid-0', '$s': 1, 'matches': True},\n",
       " {'sid': '0', 'id': 'sid-0', '$s': 1, 'matches': True, 'amod_with': True})"
      ]
     },
     "execution_count": 16,
     "metadata": {},
     "output_type": "execute_result"
    }
   ],
   "source": [
    "from durable.lang import *\n",
    "from durable.engine import Host\n",
    "\n",
    "def create_host():\n",
    "    import durable.lang as dlang\n",
    "    \n",
    "    host = Host()\n",
    "    ruleset_definitions = {}\n",
    "    for name, rset in dlang._rulesets.items():\n",
    "        full_name, ruleset_definition = rset.define()\n",
    "        ruleset_definitions[full_name] = ruleset_definition\n",
    "\n",
    "    host.register_rulesets(ruleset_definitions)\n",
    "    return host\n",
    "\n",
    "with ruleset('wordnet'):\n",
    "    @when_all(m.subject.matches('.*thing.*, entity.*'))\n",
    "    def matches(c):\n",
    "        c.s.matches=True\n",
    "        print ('string matches pat -> {0}'.format(c.m.subject))\n",
    "    \n",
    "    @when_all(m.amod.anyItem(item.matches('.*thing.*, entity.*')))\n",
    "    def amod_with(c):\n",
    "        c.s.amod_with=True\n",
    "        print ('amod pat -> {0}'.format(c.m.amod))\n",
    "    \n",
    "    @when_all(m.subject.imatches('.*thing.*'))\n",
    "    def contains(c):        \n",
    "        print ('string contains pat -> {0}'.format(c.m.subject))\n",
    "\n",
    "host=create_host()\n",
    "# assert_fact\n",
    "r1=host.post('wordnet', { 'subject': 'main.n.01, body_of_water.n.01, thing.n.12, physical_entity.n.01, entity.n.01'})\n",
    "r2=host.post('wordnet', { 'amod': ['main.n.01, body_of_water.n.01, thing.n.12, physical_entity.n.01, entity.n.01']})\n",
    "r1, r2"
   ]
  },
  {
   "cell_type": "code",
   "execution_count": 8,
   "metadata": {
    "ExecuteTime": {
     "end_time": "2019-12-07T20:16:23.253722Z",
     "start_time": "2019-12-07T20:16:23.243006Z"
    }
   },
   "outputs": [
    {
     "data": {
      "text/plain": [
       "[{'behave_purpose': {'triggers': 'action_log_commevent',\n",
       "   'rules': ['behave_purpose']}}]"
      ]
     },
     "execution_count": 8,
     "metadata": {},
     "output_type": "execute_result"
    }
   ],
   "source": [
    "import glob\n",
    "import rasa.utils.io as io_utils\n",
    "intents=[]\n",
    "for f in glob.glob('/pi/stack/conf/ruleset_*.json'):\n",
    "    rules = io_utils.read_json_file(f)\n",
    "    for rule in rules:\n",
    "        intents.append({rule['intent']: {'triggers': rule['action'], 'rules':rule['rules']}})\n",
    "intents"
   ]
  },
  {
   "cell_type": "code",
   "execution_count": 11,
   "metadata": {
    "ExecuteTime": {
     "end_time": "2019-12-07T21:35:00.551848Z",
     "start_time": "2019-12-07T21:35:00.484325Z"
    }
   },
   "outputs": [
    {
     "name": "stdout",
     "output_type": "stream",
     "text": [
      ".. request is {'lang': 'en', 'sents': 'I want to play music.', 'engine': 'corenlp', 'pipelines': ['predicts']}\n",
      "meta keys dict_keys(['rel', 'lemma', 'word', 'stems', 'lang', 'sents', 'engine'])\n",
      "tokens {'nsubj': ['I'], 'xcomp': ['play'], 'punct': ['.'], 'head_root': ['.']}\n",
      "words want {'nsubj': 'I', 'xcomp': 'play', 'punct': '.', 'head_root': '.'}\n",
      "lemmas {'nsubj': 'I', 'xcomp': 'play', 'punct': '.', 'head_root': '.'}\n",
      "chunks [nsubj: I, xcomp: to play music, punct: ., head_root: .]\n"
     ]
    }
   ],
   "source": [
    "from sagas.nlu.corenlp_parser import get_chunks\n",
    "from sagas.nlu.rules_meta import build_meta\n",
    "from sagas.nlu.inspector_common import Inspector, Context, non_spaces\n",
    "from sagas.conf.conf import cf\n",
    "from sagas.nlu.utils import fix_sents\n",
    "from sagas.nlu.uni_remote import dep_parse\n",
    "\n",
    "def parse_sents(data):\n",
    "    sents, source=data['sents'], data['lang']\n",
    "    sents=fix_sents(sents, source)\n",
    "    engine=cf.engine(source)\n",
    "    doc_jsonify, resp = dep_parse(sents, source, engine, ['predicts'])\n",
    "    return doc_jsonify, resp\n",
    "\n",
    "lang='en'\n",
    "data = {'lang': lang, \"sents\": 'I want to play music.', 'engine': cf.engine(lang)}\n",
    "doc_jsonify,_=parse_sents(data)\n",
    "rs = get_chunks(doc_jsonify)\n",
    "\n",
    "if lang in non_spaces:\n",
    "    delim=''\n",
    "else:\n",
    "    delim=' '\n",
    "for serial, r in enumerate(rs):\n",
    "    meta = build_meta(r, data)\n",
    "    domains=r['domains']\n",
    "    # print([(x[0], x[2]) for x in domains])\n",
    "    #\n",
    "    keys={x[0] for x in domains}\n",
    "    grp=lambda p, idx: [x[idx] for x in domains if x[0]==p]    \n",
    "    tokens={x:grp(x,2) for x in keys}\n",
    "    words={x:delim.join(grp(x,2)) for x in keys}\n",
    "    lemmas={x:delim.join(grp(x,3)) for x in keys}\n",
    "    print('meta keys', meta.keys())\n",
    "    print('tokens', tokens)\n",
    "    print('words', meta['word'], words)\n",
    "    print('lemmas', lemmas)\n",
    "    # \n",
    "    ctx=Context(meta, domains)\n",
    "    # print(ctx.lemmas)\n",
    "    print('chunks', ctx._chunks)"
   ]
  }
 ],
 "metadata": {
  "kernelspec": {
   "display_name": "Python 3",
   "language": "python",
   "name": "python3"
  },
  "language_info": {
   "codemirror_mode": {
    "name": "ipython",
    "version": 3
   },
   "file_extension": ".py",
   "mimetype": "text/x-python",
   "name": "python",
   "nbconvert_exporter": "python",
   "pygments_lexer": "ipython3",
   "version": "3.6.9"
  },
  "varInspector": {
   "cols": {
    "lenName": 16,
    "lenType": 16,
    "lenVar": 40
   },
   "kernels_config": {
    "python": {
     "delete_cmd_postfix": "",
     "delete_cmd_prefix": "del ",
     "library": "var_list.py",
     "varRefreshCmd": "print(var_dic_list())"
    },
    "r": {
     "delete_cmd_postfix": ") ",
     "delete_cmd_prefix": "rm(",
     "library": "var_list.r",
     "varRefreshCmd": "cat(var_dic_list()) "
    }
   },
   "types_to_exclude": [
    "module",
    "function",
    "builtin_function_or_method",
    "instance",
    "_Feature"
   ],
   "window_display": false
  }
 },
 "nbformat": 4,
 "nbformat_minor": 2
}
