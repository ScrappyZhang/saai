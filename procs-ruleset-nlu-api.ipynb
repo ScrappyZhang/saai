{
 "cells": [
  {
   "cell_type": "code",
   "execution_count": 6,
   "metadata": {
    "ExecuteTime": {
     "end_time": "2019-12-27T19:47:32.488886Z",
     "start_time": "2019-12-27T19:47:32.357568Z"
    }
   },
   "outputs": [
    {
     "name": "stdout",
     "output_type": "stream",
     "text": [
      ".. request is {'lang': 'en', 'sents': 'I want to play music', 'engine': 'corenlp', 'pipelines': ['predicts']}\n"
     ]
    },
    {
     "data": {
      "text/plain": [
       "{'doc': <sagas.nlu.uni_jsonifier.JsonifySentImpl at 0x121be2470>,\n",
       " 'predicts': [],\n",
       " 'verb_domains': [{'index': '2',\n",
       "   'text': 'want',\n",
       "   'lemma': 'want',\n",
       "   'upos': 'VERB',\n",
       "   'xpos': 'VBP',\n",
       "   'feats': 'Mood=Ind|Tense=Pres|VerbForm=Fin',\n",
       "   'governor': 0,\n",
       "   'dependency_relation': 'root',\n",
       "   'xcomp': [{'index': '4',\n",
       "     'text': 'play',\n",
       "     'lemma': 'play',\n",
       "     'upos': 'VERB',\n",
       "     'xpos': 'VB',\n",
       "     'feats': 'VerbForm=Inf',\n",
       "     'governor': 2,\n",
       "     'dependency_relation': 'xcomp',\n",
       "     'mark': [{'index': '3',\n",
       "       'text': 'to',\n",
       "       'lemma': 'to',\n",
       "       'upos': 'PART',\n",
       "       'xpos': 'TO',\n",
       "       'feats': '_',\n",
       "       'governor': 4,\n",
       "       'dependency_relation': 'mark'}],\n",
       "     'obj': [{'index': '5',\n",
       "       'text': 'music',\n",
       "       'lemma': 'music',\n",
       "       'upos': 'NOUN',\n",
       "       'xpos': 'NN',\n",
       "       'feats': 'Number=Sing',\n",
       "       'governor': 4,\n",
       "       'dependency_relation': 'obj'}]}],\n",
       "   'nsubj': [{'index': '1',\n",
       "     'text': 'I',\n",
       "     'lemma': 'I',\n",
       "     'upos': 'PRON',\n",
       "     'xpos': 'PRP',\n",
       "     'feats': 'Case=Nom|Number=Sing|Person=1|PronType=Prs',\n",
       "     'governor': 2,\n",
       "     'dependency_relation': 'nsubj'}],\n",
       "   'punct': [{'index': '6',\n",
       "     'text': '.',\n",
       "     'lemma': '.',\n",
       "     'upos': 'PUNCT',\n",
       "     'xpos': '.',\n",
       "     'feats': '_',\n",
       "     'governor': 2,\n",
       "     'dependency_relation': 'punct'}]}],\n",
       " 'root_domains': [{'index': '2',\n",
       "   'text': 'want',\n",
       "   'lemma': 'want',\n",
       "   'upos': 'VERB',\n",
       "   'xpos': 'VBP',\n",
       "   'feats': 'Mood=Ind|Tense=Pres|VerbForm=Fin',\n",
       "   'governor': 0,\n",
       "   'dependency_relation': 'root',\n",
       "   'xcomp': [{'index': '4',\n",
       "     'text': 'play',\n",
       "     'lemma': 'play',\n",
       "     'upos': 'VERB',\n",
       "     'xpos': 'VB',\n",
       "     'feats': 'VerbForm=Inf',\n",
       "     'governor': 2,\n",
       "     'dependency_relation': 'xcomp',\n",
       "     'mark': [{'index': '3',\n",
       "       'text': 'to',\n",
       "       'lemma': 'to',\n",
       "       'upos': 'PART',\n",
       "       'xpos': 'TO',\n",
       "       'feats': '_',\n",
       "       'governor': 4,\n",
       "       'dependency_relation': 'mark'}],\n",
       "     'obj': [{'index': '5',\n",
       "       'text': 'music',\n",
       "       'lemma': 'music',\n",
       "       'upos': 'NOUN',\n",
       "       'xpos': 'NN',\n",
       "       'feats': 'Number=Sing',\n",
       "       'governor': 4,\n",
       "       'dependency_relation': 'obj'}]}],\n",
       "   'nsubj': [{'index': '1',\n",
       "     'text': 'I',\n",
       "     'lemma': 'I',\n",
       "     'upos': 'PRON',\n",
       "     'xpos': 'PRP',\n",
       "     'feats': 'Case=Nom|Number=Sing|Person=1|PronType=Prs',\n",
       "     'governor': 2,\n",
       "     'dependency_relation': 'nsubj'}],\n",
       "   'punct': [{'index': '6',\n",
       "     'text': '.',\n",
       "     'lemma': '.',\n",
       "     'upos': 'PUNCT',\n",
       "     'xpos': '.',\n",
       "     'feats': '_',\n",
       "     'governor': 2,\n",
       "     'dependency_relation': 'punct'}]}]}"
      ]
     },
     "execution_count": 6,
     "metadata": {},
     "output_type": "execute_result"
    }
   ],
   "source": [
    "from sagas.nlu.ruleset_procs import cached_chunks\n",
    "sents='I want to play music'\n",
    "lang='en'\n",
    "chunks = cached_chunks(sents, lang, 'corenlp')\n",
    "chunks"
   ]
  },
  {
   "cell_type": "code",
   "execution_count": 10,
   "metadata": {
    "ExecuteTime": {
     "end_time": "2019-12-27T19:49:48.884974Z",
     "start_time": "2019-12-27T19:49:48.778234Z"
    },
    "scrolled": true
   },
   "outputs": [
    {
     "name": "stdout",
     "output_type": "stream",
     "text": [
      "\u001b[34mword-> Fact: _ want verb\u001b[0m\n",
      "\u001b[31mcatalog-> Fact: _ is willing\u001b[0m\n",
      "{'$s': 1, 'id': 'sid-0', 'sid': '0', 'spec_verb': ['willing']}\n",
      "\u001b[34mword-> Fact: _/xcomp play verb\u001b[0m\n",
      "\u001b[31mcatalog-> Fact: _/xcomp is perform\u001b[0m\n",
      "{'$s': 1,\n",
      " 'id': 'sid-0',\n",
      " 'sid': '0',\n",
      " 'spec_verb': ['willing'],\n",
      " 'spec_xcomp': ['perform']}\n",
      "\u001b[34mword-> Fact: _/xcomp/obj music noun\u001b[0m\n",
      "\u001b[31mcatalog-> Fact: _/xcomp/obj as sound\u001b[0m\n",
      "{'$s': 1,\n",
      " 'id': 'sid-0',\n",
      " 'sid': '0',\n",
      " 'spec_verb': ['willing'],\n",
      " 'spec_xcomp': ['perform'],\n",
      " 'spec_xcomp_obj': ['sound']}\n",
      "\u001b[36m  keys: index, text, lemma, upos, xpos, feats, governor, dependency_relation, xcomp, nsubj, punct, spec_verb, spec_xcomp, spec_xcomp_obj\u001b[0m\n",
      "\u001b[31mcatalog-> Fact: nsubj is prop\u001b[0m\n",
      "\u001b[34msents-> Fact: want want\u001b[0m\n"
     ]
    },
    {
     "data": {
      "text/plain": [
       "[{'intent': 'perform_media', 'object_type': 'sound'}]"
      ]
     },
     "execution_count": 10,
     "metadata": {},
     "output_type": "execute_result"
    }
   ],
   "source": [
    "from sagas.nlu.ruleset_procs import create_host, list_words\n",
    "import sagas.tracker_fn as tc\n",
    "import sagas.nlu.ruleset_fixtures as rf\n",
    "from pprint import pprint\n",
    "\n",
    "v_domains=chunks['verb_domains']\n",
    "\n",
    "intents=[]\n",
    "host = create_host()\n",
    "verbose=False\n",
    "\n",
    "for d in v_domains:\n",
    "    tokens=list_words(d, lang, with_chains=True)\n",
    "    if verbose:\n",
    "        pprint(tokens)\n",
    "\n",
    "    # specs evaluate\n",
    "    # tc.emp('cyan', f\"✁ specs evaluate. {'-' * 25}\")\n",
    "    r3={}\n",
    "    for token in tokens:\n",
    "        r3 = host.assert_fact('chains', token)\n",
    "        pprint(r3) # the last result is all state\n",
    "    [r3.pop(key) for key in ['$s', 'id', 'sid']]\n",
    "    # tc.emp('red', f\"specs state - {r3}\")\n",
    "\n",
    "    # sents evaluate\n",
    "    # tc.emp('cyan', f\"✁ sents evaluate. {'-' * 25}\")\n",
    "    sents_data={**d, **r3}\n",
    "    tc.emp('cyan', f\"  keys: {', '.join(sents_data.keys())}\")\n",
    "    result=host.assert_fact('sents', sents_data)\n",
    "    # tc.emp('red', f\"sents state - {result}\")\n",
    "    if 'intents' in result:\n",
    "        intents.extend(result['intents'])\n",
    "        \n",
    "intents        "
   ]
  },
  {
   "cell_type": "code",
   "execution_count": 13,
   "metadata": {
    "ExecuteTime": {
     "end_time": "2019-12-27T20:02:07.883357Z",
     "start_time": "2019-12-27T20:02:07.871840Z"
    }
   },
   "outputs": [
    {
     "data": {
      "text/plain": [
       "[{'intent': 'perform_media',\n",
       "  'action': ['action_perform_media'],\n",
       "  'sents': 'I want to play music',\n",
       "  'lang': 'en',\n",
       "  'object_type': 'sound',\n",
       "  'parameters': {}}]"
      ]
     },
     "execution_count": 13,
     "metadata": {},
     "output_type": "execute_result"
    }
   ],
   "source": [
    "from sagas.nlu.ruleset_actions import ruleset_actions\n",
    "def get_schedules(sents, lang, intents):\n",
    "    action_binds = ruleset_actions.get_intents()    \n",
    "    schedules = []\n",
    "    for intent_item in intents:\n",
    "        intent = intent_item['intent']\n",
    "        acts = [ac['action'] for ac in action_binds if ac['intent'] == intent]\n",
    "\n",
    "        # tc.emp('green', f\"action for intent {intent}: {acts}\")\n",
    "        if len(acts) > 0:\n",
    "            schedules.append({'intent': intent, 'action': acts,\n",
    "                              'sents': sents, 'lang': lang,\n",
    "                              'object_type': intent_item['object_type'],\n",
    "                              'parameters': {},\n",
    "                              })\n",
    "    return schedules\n",
    "\n",
    "schedules=get_schedules(sents, lang, intents)\n",
    "schedules"
   ]
  },
  {
   "cell_type": "code",
   "execution_count": 17,
   "metadata": {
    "ExecuteTime": {
     "end_time": "2019-12-27T20:04:57.303681Z",
     "start_time": "2019-12-27T20:04:57.234511Z"
    }
   },
   "outputs": [
    {
     "name": "stdout",
     "output_type": "stream",
     "text": [
      "status code: 200\n",
      "[{'custom': {'media_list': ['first song', 'second song'],\n",
      "             'media_type': 'sound',\n",
      "             'result': 'success',\n",
      "             'sents': 'I want to play music'},\n",
      "  'recipient_id': 'my'}]\n"
     ]
    }
   ],
   "source": [
    "import requests\n",
    "from sagas.conf.conf import cf\n",
    "\n",
    "def comm(schedules):\n",
    "    for ac in schedules:\n",
    "        values={\"object_type\": ac[\"object_type\"],\n",
    "                \"sents\":ac[\"sents\"],\n",
    "                'parameters': ac['parameters']}\n",
    "        values_str=json.dumps(values, ensure_ascii=False)\n",
    "        # text = f'/{ac[\"intent\"]}{{\"object_type\": \"{ac[\"object_type\"]}\", \"sents\":\"{ac[\"sents\"]}\"}}'\n",
    "        text = f'/{ac[\"intent\"]}{values_str}'\n",
    "        data = {'mod': 'genesis', 'lang': ac['lang'], \"sents\": text}\n",
    "        response = requests.post(f'{cf.ensure(\"agents_servant\")}/message/my', json=data)\n",
    "        print('status code:', response.status_code)\n",
    "        pprint(response.json())\n",
    "\n",
    "comm(schedules)"
   ]
  },
  {
   "cell_type": "code",
   "execution_count": 18,
   "metadata": {
    "ExecuteTime": {
     "end_time": "2019-12-27T20:05:00.741169Z",
     "start_time": "2019-12-27T20:05:00.644021Z"
    }
   },
   "outputs": [
    {
     "name": "stdout",
     "output_type": "stream",
     "text": [
      "status code: 200\n",
      "[{'custom': {'media_list': ['first song', 'second song'],\n",
      "             'media_type': 'testing',\n",
      "             'result': 'success',\n",
      "             'sents': 'I want to play music.'},\n",
      "  'recipient_id': 'my'}]\n"
     ]
    }
   ],
   "source": [
    "schedules= [{'intent': 'perform_media',\n",
    "             'object_type': 'testing',\n",
    "             'action': ['action_perform_sound'],\n",
    "             'sents': 'I want to play music.',\n",
    "             'parameters': {\n",
    "                'media_list': ['first song', 'second song'],\n",
    "                'media_type': 'sound'},\n",
    "             'lang': 'en'}]\n",
    "comm(schedules)"
   ]
  },
  {
   "cell_type": "code",
   "execution_count": 22,
   "metadata": {
    "ExecuteTime": {
     "end_time": "2019-12-27T20:27:09.729435Z",
     "start_time": "2019-12-27T20:27:09.698835Z"
    }
   },
   "outputs": [
    {
     "name": "stdout",
     "output_type": "stream",
     "text": [
      ".. with endpoing http://localhost:18099\n",
      "{\n",
      "    \"intent\": {\n",
      "        \"name\": \"inform\",\n",
      "        \"confidence\": 0.28809934854507446\n",
      "    },\n",
      "    \"entities\": [],\n",
      "    \"intent_ranking\": [\n",
      "        {\n",
      "            \"name\": \"inform\",\n",
      "            \"confidence\": 0.28809934854507446\n",
      "        },\n",
      "        {\n",
      "            \"name\": \"chitchat\",\n",
      "            \"confidence\": 0.13150081038475037\n",
      "        },\n",
      "        {\n",
      "            \"name\": \"deny\",\n",
      "            \"confidence\": 0.13036714494228363\n",
      "        },\n",
      "        {\n",
      "            \"name\": \"stop\",\n",
      "            \"confidence\": 0.10581902414560318\n",
      "        },\n",
      "        {\n",
      "            \"name\": \"affirm\",\n",
      "            \"confidence\": 0.10453446209430695\n",
      "        },\n",
      "        {\n",
      "            \"name\": \"request_restaurant\",\n",
      "            \"confidence\": 0.058347396552562714\n",
      "        },\n",
      "        {\n",
      "            \"name\": \"bot_challenge\",\n",
      "            \"confidence\": 0.05678541213274002\n",
      "        },\n",
      "        {\n",
      "            \"name\": \"name\",\n",
      "            \"confidence\": 0.043068546801805496\n",
      "        },\n",
      "        {\n",
      "            \"name\": \"goodbye\",\n",
      "            \"confidence\": 0.01831427961587906\n",
      "        },\n",
      "        {\n",
      "            \"name\": \"greet\",\n",
      "            \"confidence\": 0.017656343057751656\n",
      "        }\n",
      "    ],\n",
      "    \"text\": \"I want to play music\"\n",
      "}\n",
      "inform -> 0.288099\n",
      "entities -> []\n"
     ]
    }
   ],
   "source": [
    "# fallback：has-intent>confidence\n",
    "# ruleset-intents和fallback-intents都在execute阶段获取\n",
    "from sagas.nlu.rasa_procs import invoke_nlu\n",
    "\n",
    "endpoint = cf.ensure('nlu_multilang_servant')\n",
    "print('.. with endpoing', endpoint)\n",
    "result = invoke_nlu(endpoint, lang, \"current\", sents)\n",
    "if result != None and len(result)>0:\n",
    "    print(json.dumps(result, indent=4, ensure_ascii=False))\n",
    "\n",
    "    intent = result[\"intent\"]\n",
    "    print('%s -> %f' % (intent['name'], intent['confidence']))\n",
    "    entities = result['entities']\n",
    "    print('entities ->', [ent['entity'] for ent in entities])"
   ]
  }
 ],
 "metadata": {
  "kernelspec": {
   "display_name": "Python 3",
   "language": "python",
   "name": "python3"
  },
  "language_info": {
   "codemirror_mode": {
    "name": "ipython",
    "version": 3
   },
   "file_extension": ".py",
   "mimetype": "text/x-python",
   "name": "python",
   "nbconvert_exporter": "python",
   "pygments_lexer": "ipython3",
   "version": "3.6.9"
  },
  "varInspector": {
   "cols": {
    "lenName": 16,
    "lenType": 16,
    "lenVar": 40
   },
   "kernels_config": {
    "python": {
     "delete_cmd_postfix": "",
     "delete_cmd_prefix": "del ",
     "library": "var_list.py",
     "varRefreshCmd": "print(var_dic_list())"
    },
    "r": {
     "delete_cmd_postfix": ") ",
     "delete_cmd_prefix": "rm(",
     "library": "var_list.r",
     "varRefreshCmd": "cat(var_dic_list()) "
    }
   },
   "types_to_exclude": [
    "module",
    "function",
    "builtin_function_or_method",
    "instance",
    "_Feature"
   ],
   "window_display": false
  }
 },
 "nbformat": 4,
 "nbformat_minor": 2
}
