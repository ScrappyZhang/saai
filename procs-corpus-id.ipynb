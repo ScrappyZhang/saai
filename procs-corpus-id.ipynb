{
 "cells": [
  {
   "cell_type": "code",
   "execution_count": 2,
   "metadata": {
    "ExecuteTime": {
     "end_time": "2019-11-24T11:48:56.596448Z",
     "start_time": "2019-11-24T11:48:56.505119Z"
    }
   },
   "outputs": [
    {
     "data": {
      "text/html": [
       "<div>\n",
       "<style scoped>\n",
       "    .dataframe tbody tr th:only-of-type {\n",
       "        vertical-align: middle;\n",
       "    }\n",
       "\n",
       "    .dataframe tbody tr th {\n",
       "        vertical-align: top;\n",
       "    }\n",
       "\n",
       "    .dataframe thead th {\n",
       "        text-align: right;\n",
       "    }\n",
       "</style>\n",
       "<table border=\"1\" class=\"dataframe\">\n",
       "  <thead>\n",
       "    <tr style=\"text-align: right;\">\n",
       "      <th></th>\n",
       "      <th>en</th>\n",
       "      <th>id</th>\n",
       "    </tr>\n",
       "  </thead>\n",
       "  <tbody>\n",
       "    <tr>\n",
       "      <th>0</th>\n",
       "      <td>Tom showed up at John and Mary's wedding.</td>\n",
       "      <td>Tom hadir pada pernikahan John dan Mary.</td>\n",
       "    </tr>\n",
       "    <tr>\n",
       "      <th>1</th>\n",
       "      <td>I'd like to rent a car.</td>\n",
       "      <td>Aku ingin menyewa sebuah mobil.</td>\n",
       "    </tr>\n",
       "    <tr>\n",
       "      <th>2</th>\n",
       "      <td>She is still financially dependent on her pare...</td>\n",
       "      <td>Dia masih bergantung secara finansial kepada o...</td>\n",
       "    </tr>\n",
       "    <tr>\n",
       "      <th>3</th>\n",
       "      <td>You should concentrate on the road when you're...</td>\n",
       "      <td>Anda harus berkonsentrasi pada jalan saat anda...</td>\n",
       "    </tr>\n",
       "    <tr>\n",
       "      <th>4</th>\n",
       "      <td>I remember seeing that movie.</td>\n",
       "      <td>Saya ingat dulu pernah nonton film itu</td>\n",
       "    </tr>\n",
       "    <tr>\n",
       "      <th>5</th>\n",
       "      <td>Are we all ready?</td>\n",
       "      <td>Apakah kita siap?</td>\n",
       "    </tr>\n",
       "    <tr>\n",
       "      <th>6</th>\n",
       "      <td>Tom is older than me.</td>\n",
       "      <td>Tom lebih tua ketimbang aku.</td>\n",
       "    </tr>\n",
       "    <tr>\n",
       "      <th>7</th>\n",
       "      <td>We're going to the theater.</td>\n",
       "      <td>Kami akan pergi ke teater.</td>\n",
       "    </tr>\n",
       "    <tr>\n",
       "      <th>8</th>\n",
       "      <td>I understand.</td>\n",
       "      <td>Aku mengerti.</td>\n",
       "    </tr>\n",
       "    <tr>\n",
       "      <th>9</th>\n",
       "      <td>Have you ever been to Mexico?</td>\n",
       "      <td>Apakah kamu pernah ke Meksiko?</td>\n",
       "    </tr>\n",
       "  </tbody>\n",
       "</table>\n",
       "</div>"
      ],
      "text/plain": [
       "                                                  en  \\\n",
       "0          Tom showed up at John and Mary's wedding.   \n",
       "1                            I'd like to rent a car.   \n",
       "2  She is still financially dependent on her pare...   \n",
       "3  You should concentrate on the road when you're...   \n",
       "4                      I remember seeing that movie.   \n",
       "5                                  Are we all ready?   \n",
       "6                              Tom is older than me.   \n",
       "7                        We're going to the theater.   \n",
       "8                                      I understand.   \n",
       "9                      Have you ever been to Mexico?   \n",
       "\n",
       "                                                  id  \n",
       "0           Tom hadir pada pernikahan John dan Mary.  \n",
       "1                    Aku ingin menyewa sebuah mobil.  \n",
       "2  Dia masih bergantung secara finansial kepada o...  \n",
       "3  Anda harus berkonsentrasi pada jalan saat anda...  \n",
       "4             Saya ingat dulu pernah nonton film itu  \n",
       "5                                  Apakah kita siap?  \n",
       "6                       Tom lebih tua ketimbang aku.  \n",
       "7                         Kami akan pergi ke teater.  \n",
       "8                                      Aku mengerti.  \n",
       "9                     Apakah kamu pernah ke Meksiko?  "
      ]
     },
     "execution_count": 2,
     "metadata": {},
     "output_type": "execute_result"
    }
   ],
   "source": [
    "from sagas.train.parallel_corpus import load_corpus, take_samples\n",
    "import sagas\n",
    "items=load_corpus('/pi/ai/seq2seq/ind-eng/ind.txt')\n",
    "rows=take_samples(items)\n",
    "sagas.to_df(rows, ['en','id'])"
   ]
  },
  {
   "cell_type": "code",
   "execution_count": 4,
   "metadata": {
    "ExecuteTime": {
     "end_time": "2019-11-24T11:51:23.713633Z",
     "start_time": "2019-11-24T11:51:23.698092Z"
    }
   },
   "outputs": [
    {
     "data": {
      "text/html": [
       "<div>\n",
       "<style scoped>\n",
       "    .dataframe tbody tr th:only-of-type {\n",
       "        vertical-align: middle;\n",
       "    }\n",
       "\n",
       "    .dataframe tbody tr th {\n",
       "        vertical-align: top;\n",
       "    }\n",
       "\n",
       "    .dataframe thead th {\n",
       "        text-align: right;\n",
       "    }\n",
       "</style>\n",
       "<table border=\"1\" class=\"dataframe\">\n",
       "  <thead>\n",
       "    <tr style=\"text-align: right;\">\n",
       "      <th></th>\n",
       "      <th>en</th>\n",
       "      <th>id</th>\n",
       "    </tr>\n",
       "  </thead>\n",
       "  <tbody>\n",
       "    <tr>\n",
       "      <th>0</th>\n",
       "      <td>Run!</td>\n",
       "      <td>Lari!</td>\n",
       "    </tr>\n",
       "    <tr>\n",
       "      <th>1</th>\n",
       "      <td>Who?</td>\n",
       "      <td>Siapa?</td>\n",
       "    </tr>\n",
       "    <tr>\n",
       "      <th>2</th>\n",
       "      <td>Wow!</td>\n",
       "      <td>Wow!</td>\n",
       "    </tr>\n",
       "    <tr>\n",
       "      <th>3</th>\n",
       "      <td>Help!</td>\n",
       "      <td>Tolong!</td>\n",
       "    </tr>\n",
       "    <tr>\n",
       "      <th>4</th>\n",
       "      <td>Jump!</td>\n",
       "      <td>Lompat!</td>\n",
       "    </tr>\n",
       "  </tbody>\n",
       "</table>\n",
       "</div>"
      ],
      "text/plain": [
       "      en       id\n",
       "0   Run!    Lari!\n",
       "1   Who?   Siapa?\n",
       "2   Wow!     Wow!\n",
       "3  Help!  Tolong!\n",
       "4  Jump!  Lompat!"
      ]
     },
     "execution_count": 4,
     "metadata": {},
     "output_type": "execute_result"
    }
   ],
   "source": [
    "corpus_df=sagas.to_df(items, ['en','id'])\n",
    "corpus_df.head()"
   ]
  },
  {
   "cell_type": "code",
   "execution_count": null,
   "metadata": {},
   "outputs": [],
   "source": []
  }
 ],
 "metadata": {
  "kernelspec": {
   "display_name": "Python 3",
   "language": "python",
   "name": "python3"
  },
  "language_info": {
   "codemirror_mode": {
    "name": "ipython",
    "version": 3
   },
   "file_extension": ".py",
   "mimetype": "text/x-python",
   "name": "python",
   "nbconvert_exporter": "python",
   "pygments_lexer": "ipython3",
   "version": "3.6.9"
  },
  "varInspector": {
   "cols": {
    "lenName": 16,
    "lenType": 16,
    "lenVar": 40
   },
   "kernels_config": {
    "python": {
     "delete_cmd_postfix": "",
     "delete_cmd_prefix": "del ",
     "library": "var_list.py",
     "varRefreshCmd": "print(var_dic_list())"
    },
    "r": {
     "delete_cmd_postfix": ") ",
     "delete_cmd_prefix": "rm(",
     "library": "var_list.r",
     "varRefreshCmd": "cat(var_dic_list()) "
    }
   },
   "types_to_exclude": [
    "module",
    "function",
    "builtin_function_or_method",
    "instance",
    "_Feature"
   ],
   "window_display": false
  }
 },
 "nbformat": 4,
 "nbformat_minor": 2
}
