{
 "cells": [
  {
   "cell_type": "code",
   "execution_count": 1,
   "metadata": {
    "ExecuteTime": {
     "end_time": "2019-12-09T10:26:46.129974Z",
     "start_time": "2019-12-09T10:26:46.096464Z"
    }
   },
   "outputs": [
    {
     "name": "stdout",
     "output_type": "stream",
     "text": [
      "[DatumInContext(value=1, path=Fields('id'), context=DatumInContext(value={'id': 1, 'name': 'Pankaj'}, path=Root(), context=None))]\n",
      "id value is 1\n"
     ]
    }
   ],
   "source": [
    "import json\n",
    "\n",
    "from jsonpath_ng import jsonpath, parse\n",
    "\n",
    "json_string = '{\"id\":1, \"name\":\"Pankaj\"}'\n",
    "json_data = json.loads(json_string)\n",
    "\n",
    "jsonpath_expression = parse('$.id')\n",
    "\n",
    "match = jsonpath_expression.find(json_data)\n",
    "\n",
    "print(match)\n",
    "print(\"id value is\", match[0].value)"
   ]
  },
  {
   "cell_type": "code",
   "execution_count": 3,
   "metadata": {
    "ExecuteTime": {
     "end_time": "2019-12-09T10:29:50.135177Z",
     "start_time": "2019-12-09T10:29:50.116269Z"
    }
   },
   "outputs": [
    {
     "name": "stdout",
     "output_type": "stream",
     "text": [
      "Employee id: 1\n",
      "Employee id: 2\n"
     ]
    }
   ],
   "source": [
    "raw='''{\n",
    "  \"employees\": [\n",
    "    {\n",
    "      \"id\": 1,\n",
    "      \"name\": \"Pankaj\",\n",
    "      \"salary\": \"10000\"\n",
    "    },\n",
    "    {\n",
    "      \"name\": \"David\",\n",
    "      \"salary\": \"5000\",\n",
    "      \"id\": 2\n",
    "    }\n",
    "  ]\n",
    "}'''\n",
    "\n",
    "import json\n",
    "from jsonpath_ng import jsonpath, parse\n",
    "json_data = json.loads(raw)\n",
    "jsonpath_expression = parse('employees[*].id')\n",
    "\n",
    "for match in jsonpath_expression.find(json_data):\n",
    "    print(f'Employee id: {match.value}')"
   ]
  },
  {
   "cell_type": "code",
   "execution_count": 4,
   "metadata": {
    "ExecuteTime": {
     "end_time": "2019-12-09T10:29:58.442720Z",
     "start_time": "2019-12-09T10:29:58.437522Z"
    }
   },
   "outputs": [
    {
     "name": "stdout",
     "output_type": "stream",
     "text": [
      "[1, 2]\n"
     ]
    }
   ],
   "source": [
    "emp_ids_list = [match.value for match in jsonpath_expression.find(json_data)]\n",
    "print(emp_ids_list)  # [1, 2]"
   ]
  },
  {
   "cell_type": "code",
   "execution_count": 6,
   "metadata": {
    "ExecuteTime": {
     "end_time": "2019-12-09T10:30:36.654687Z",
     "start_time": "2019-12-09T10:30:36.618165Z"
    }
   },
   "outputs": [
    {
     "data": {
      "text/plain": [
       "[1, 2]"
      ]
     },
     "execution_count": 6,
     "metadata": {},
     "output_type": "execute_result"
    }
   ],
   "source": [
    "jsonpath_expr = parse('foo[*].baz')\n",
    "[match.value for match in jsonpath_expr.find({'foo': [{'baz': 1}, {'baz': 2}]})]"
   ]
  },
  {
   "cell_type": "code",
   "execution_count": 7,
   "metadata": {
    "ExecuteTime": {
     "end_time": "2019-12-09T10:31:10.412659Z",
     "start_time": "2019-12-09T10:31:10.402872Z"
    }
   },
   "outputs": [
    {
     "data": {
      "text/plain": [
       "['foo.[0].baz', 'foo.[1].baz']"
      ]
     },
     "execution_count": 7,
     "metadata": {},
     "output_type": "execute_result"
    }
   ],
   "source": [
    "# Matches remember where they came from\n",
    ">>> [str(match.full_path) for match in jsonpath_expr.find({'foo': [{'baz': 1}, {'baz': 2}]})]"
   ]
  },
  {
   "cell_type": "code",
   "execution_count": 8,
   "metadata": {
    "ExecuteTime": {
     "end_time": "2019-12-09T10:32:24.941446Z",
     "start_time": "2019-12-09T10:32:24.914520Z"
    }
   },
   "outputs": [
    {
     "data": {
      "text/plain": [
       "['foo.bizzle', 'foo.[1]']"
      ]
     },
     "execution_count": 8,
     "metadata": {},
     "output_type": "execute_result"
    }
   ],
   "source": [
    "# And this can be useful for automatically providing ids for bits of data that do not have them (currently a global switch)\n",
    ">>> jsonpath.auto_id_field = 'id'\n",
    ">>> [match.value for match in parse('foo[*].id').find({'foo': [{'id': 'bizzle'}, {'baz': 3}]})]\n"
   ]
  },
  {
   "cell_type": "code",
   "execution_count": 9,
   "metadata": {
    "ExecuteTime": {
     "end_time": "2019-12-09T10:32:46.850464Z",
     "start_time": "2019-12-09T10:32:46.819278Z"
    }
   },
   "outputs": [
    {
     "data": {
      "text/plain": [
       "['number one', 'number two']"
      ]
     },
     "execution_count": 9,
     "metadata": {},
     "output_type": "execute_result"
    }
   ],
   "source": [
    "# A handy extension: named operators like `parent`\n",
    ">>> [match.value for match in parse('a.*.b.`parent`.c').find({'a': {'x': {'b': 1, 'c': 'number one'}, 'y': {'b': 2, 'c': 'number two'}}})]"
   ]
  },
  {
   "cell_type": "code",
   "execution_count": 10,
   "metadata": {
    "ExecuteTime": {
     "end_time": "2019-12-09T10:33:43.594652Z",
     "start_time": "2019-12-09T10:33:43.527962Z"
    }
   },
   "outputs": [],
   "source": [
    ">>> from jsonpath_ng.ext import parse\n",
    "# A robust parser, not just a regex. (Makes powerful extensions possible; see below)\n",
    ">>> jsonpath_expr = parse('foo[*].baz')"
   ]
  },
  {
   "cell_type": "code",
   "execution_count": 12,
   "metadata": {
    "ExecuteTime": {
     "end_time": "2019-12-09T10:42:09.591179Z",
     "start_time": "2019-12-09T10:42:09.579861Z"
    }
   },
   "outputs": [
    {
     "data": {
      "text/plain": [
       "{'index': '2',\n",
       " 'text': 'want',\n",
       " 'lemma': 'want',\n",
       " 'upos': 'VERB',\n",
       " 'xpos': 'VBP',\n",
       " 'feats': 'Mood=Ind|Tense=Pres|VerbForm=Fin',\n",
       " 'governor': 0,\n",
       " 'dependency_relation': 'root',\n",
       " 'xcomp': [{'index': '4',\n",
       "   'text': 'play',\n",
       "   'lemma': 'play',\n",
       "   'upos': 'VERB',\n",
       "   'xpos': 'VB',\n",
       "   'feats': 'VerbForm=Inf',\n",
       "   'governor': 2,\n",
       "   'dependency_relation': 'xcomp',\n",
       "   'obj': [{'index': '5',\n",
       "     'text': 'music',\n",
       "     'lemma': 'music',\n",
       "     'upos': 'NOUN',\n",
       "     'xpos': 'NN',\n",
       "     'feats': 'Number=Sing',\n",
       "     'governor': 4,\n",
       "     'dependency_relation': 'obj'}],\n",
       "   'mark': [{'index': '3',\n",
       "     'text': 'to',\n",
       "     'lemma': 'to',\n",
       "     'upos': 'PART',\n",
       "     'xpos': 'TO',\n",
       "     'feats': '_',\n",
       "     'governor': 4,\n",
       "     'dependency_relation': 'mark'}]}],\n",
       " 'nsubj': [{'index': '1',\n",
       "   'text': 'I',\n",
       "   'lemma': 'I',\n",
       "   'upos': 'PRON',\n",
       "   'xpos': 'PRP',\n",
       "   'feats': 'Case=Nom|Number=Sing|Person=1|PronType=Prs',\n",
       "   'governor': 2,\n",
       "   'dependency_relation': 'nsubj'}],\n",
       " 'punct': [{'index': '6',\n",
       "   'text': '.',\n",
       "   'lemma': '.',\n",
       "   'upos': 'PUNCT',\n",
       "   'xpos': '.',\n",
       "   'feats': '_',\n",
       "   'governor': 2,\n",
       "   'dependency_relation': 'punct'}]}"
      ]
     },
     "execution_count": 12,
     "metadata": {},
     "output_type": "execute_result"
    }
   ],
   "source": [
    "with open(\"./out/v_domain.json\", 'r') as json_file:\n",
    "    json_data = json.load(json_file)\n",
    "\n",
    "json_data"
   ]
  },
  {
   "cell_type": "code",
   "execution_count": 14,
   "metadata": {
    "ExecuteTime": {
     "end_time": "2019-12-09T10:44:15.057085Z",
     "start_time": "2019-12-09T10:44:15.007453Z"
    }
   },
   "outputs": [
    {
     "data": {
      "text/plain": [
       "['want']"
      ]
     },
     "execution_count": 14,
     "metadata": {},
     "output_type": "execute_result"
    }
   ],
   "source": [
    "[match.value for match in parse('$.text').find(json_data)]"
   ]
  },
  {
   "cell_type": "code",
   "execution_count": 18,
   "metadata": {
    "ExecuteTime": {
     "end_time": "2019-12-09T10:49:15.922164Z",
     "start_time": "2019-12-09T10:49:15.828842Z"
    }
   },
   "outputs": [
    {
     "name": "stdout",
     "output_type": "stream",
     "text": [
      "[('I', 'nsubj.[0].text')]\n",
      "[('music', 'xcomp.[0].obj.[0].text')]\n"
     ]
    }
   ],
   "source": [
    "exprs=['$.nsubj[*].text',\n",
    "       '$.xcomp[*].obj[*].text'\n",
    "      ]\n",
    "for expr in exprs:\n",
    "    print([(match.value, str(match.full_path)) for match in parse(expr).find(json_data)])"
   ]
  }
 ],
 "metadata": {
  "kernelspec": {
   "display_name": "Python 3",
   "language": "python",
   "name": "python3"
  },
  "language_info": {
   "codemirror_mode": {
    "name": "ipython",
    "version": 3
   },
   "file_extension": ".py",
   "mimetype": "text/x-python",
   "name": "python",
   "nbconvert_exporter": "python",
   "pygments_lexer": "ipython3",
   "version": "3.6.9"
  },
  "varInspector": {
   "cols": {
    "lenName": 16,
    "lenType": 16,
    "lenVar": 40
   },
   "kernels_config": {
    "python": {
     "delete_cmd_postfix": "",
     "delete_cmd_prefix": "del ",
     "library": "var_list.py",
     "varRefreshCmd": "print(var_dic_list())"
    },
    "r": {
     "delete_cmd_postfix": ") ",
     "delete_cmd_prefix": "rm(",
     "library": "var_list.r",
     "varRefreshCmd": "cat(var_dic_list()) "
    }
   },
   "types_to_exclude": [
    "module",
    "function",
    "builtin_function_or_method",
    "instance",
    "_Feature"
   ],
   "window_display": false
  }
 },
 "nbformat": 4,
 "nbformat_minor": 2
}
