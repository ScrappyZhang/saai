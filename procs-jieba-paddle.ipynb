{
 "cells": [
  {
   "cell_type": "code",
   "execution_count": 11,
   "metadata": {
    "ExecuteTime": {
     "end_time": "2019-12-30T19:36:51.860420Z",
     "start_time": "2019-12-30T19:36:51.841576Z"
    }
   },
   "outputs": [
    {
     "data": {
      "text/plain": [
       "[{'start': 2, 'end': 4, 'value': '北京', 'entity': 'LOC', 'confidence': None},\n",
       " {'start': 4, 'end': 7, 'value': '天安门', 'entity': 'LOC', 'confidence': None}]"
      ]
     },
     "execution_count": 11,
     "metadata": {},
     "output_type": "execute_result"
    }
   ],
   "source": [
    "def extract_entities(sents):\n",
    "    import jieba.posseg as pseg\n",
    "    words = pseg.cut(sents,use_paddle=True)\n",
    "    tokens=[(word, flag) for word, flag in words]\n",
    "    running_offset = 0\n",
    "    rs = []\n",
    "    for token in tokens:\n",
    "        word = token[0]\n",
    "        word_offset = sents.index(word, running_offset)\n",
    "        word_len = len(word)\n",
    "        running_offset = word_offset + word_len\n",
    "        rs.append({\"start\": word_offset,\n",
    "                   \"end\": running_offset,\n",
    "                   'value': word,\n",
    "                   'entity': token[1],\n",
    "                   \"confidence\": None,\n",
    "                   })\n",
    "    return [w for w in rs if w['entity'] in {'PER', 'LOC', 'ORG', 'TIME'}]\n",
    "\n",
    "extract_entities(\"我爱北京天安门\")"
   ]
  },
  {
   "cell_type": "code",
   "execution_count": 12,
   "metadata": {
    "ExecuteTime": {
     "end_time": "2019-12-30T19:59:21.193026Z",
     "start_time": "2019-12-30T19:59:21.174433Z"
    }
   },
   "outputs": [
    {
     "data": {
      "text/plain": [
       "[{'start': 10,\n",
       "  'end': 16,\n",
       "  'value': '纽约石溪大学',\n",
       "  'entity': 'ORG',\n",
       "  'confidence': None}]"
      ]
     },
     "execution_count": 12,
     "metadata": {},
     "output_type": "execute_result"
    }
   ],
   "source": [
    "# [(word, flag) for word, flag in words if flag in {'PER', 'LOC', 'ORG', 'TIME'}]\n",
    "extract_entities('Rami Eid正在纽约石溪大学学习')"
   ]
  },
  {
   "cell_type": "code",
   "execution_count": 13,
   "metadata": {
    "ExecuteTime": {
     "end_time": "2019-12-30T19:59:59.919856Z",
     "start_time": "2019-12-30T19:59:59.906673Z"
    }
   },
   "outputs": [
    {
     "data": {
      "text/plain": [
       "[{'start': 0,\n",
       "  'end': 9,\n",
       "  'value': '周四下午三点到五点',\n",
       "  'entity': 'TIME',\n",
       "  'confidence': None}]"
      ]
     },
     "execution_count": 13,
     "metadata": {},
     "output_type": "execute_result"
    }
   ],
   "source": [
    "extract_entities('周四下午三点到五点开会')"
   ]
  },
  {
   "cell_type": "code",
   "execution_count": 14,
   "metadata": {
    "ExecuteTime": {
     "end_time": "2019-12-30T20:00:20.267084Z",
     "start_time": "2019-12-30T20:00:20.248261Z"
    }
   },
   "outputs": [
    {
     "data": {
      "text/plain": [
       "[{'start': 0,\n",
       "  'end': 9,\n",
       "  'value': '7月10日晚上7点',\n",
       "  'entity': 'TIME',\n",
       "  'confidence': None},\n",
       " {'start': 12,\n",
       "  'end': 27,\n",
       "  'value': '六安市公安局裕安分局平桥派出所',\n",
       "  'entity': 'ORG',\n",
       "  'confidence': None},\n",
       " {'start': 33, 'end': 35, 'value': '戴某', 'entity': 'PER', 'confidence': None}]"
      ]
     },
     "execution_count": 14,
     "metadata": {},
     "output_type": "execute_result"
    }
   ],
   "source": [
    "extract_entities('7月10日晚上7点左右，六安市公安局裕安分局平桥派出所接到辖区居民戴某报警')"
   ]
  }
 ],
 "metadata": {
  "kernelspec": {
   "display_name": "Python 3",
   "language": "python",
   "name": "python3"
  },
  "language_info": {
   "codemirror_mode": {
    "name": "ipython",
    "version": 3
   },
   "file_extension": ".py",
   "mimetype": "text/x-python",
   "name": "python",
   "nbconvert_exporter": "python",
   "pygments_lexer": "ipython3",
   "version": "3.6.9"
  },
  "varInspector": {
   "cols": {
    "lenName": 16,
    "lenType": 16,
    "lenVar": 40
   },
   "kernels_config": {
    "python": {
     "delete_cmd_postfix": "",
     "delete_cmd_prefix": "del ",
     "library": "var_list.py",
     "varRefreshCmd": "print(var_dic_list())"
    },
    "r": {
     "delete_cmd_postfix": ") ",
     "delete_cmd_prefix": "rm(",
     "library": "var_list.r",
     "varRefreshCmd": "cat(var_dic_list()) "
    }
   },
   "types_to_exclude": [
    "module",
    "function",
    "builtin_function_or_method",
    "instance",
    "_Feature"
   ],
   "window_display": false
  }
 },
 "nbformat": 4,
 "nbformat_minor": 2
}
