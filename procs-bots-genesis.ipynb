{
 "cells": [
  {
   "cell_type": "code",
   "execution_count": 2,
   "metadata": {
    "ExecuteTime": {
     "end_time": "2019-12-03T17:14:44.522263Z",
     "start_time": "2019-12-03T17:14:43.905524Z"
    }
   },
   "outputs": [
    {
     "name": "stdout",
     "output_type": "stream",
     "text": [
      ".. load bot model /pi/ws/sagas-ai/bots/genesis/models/20191204-011025.tar.gz\n",
      "INFO:tensorflow:Restoring parameters from /var/folders/fv/7k1qk5v11dn33sdcngv2wbnm0000gn/T/tmp2wszavw1/nlu/component_6_EmbeddingIntentClassifier.ckpt\n"
     ]
    },
    {
     "data": {
      "text/plain": [
       "[{'recipient_id': 'my', 'text': 'I am a bot, powered by Rasa.'}]"
      ]
     },
     "execution_count": 2,
     "metadata": {},
     "output_type": "execute_result"
    }
   ],
   "source": [
    "from rasa.utils.endpoints import ClientResponseError, EndpointConfig\n",
    "from rasa.core.agent import Agent\n",
    "from rasa.core.interpreter import RasaNLUInterpreter\n",
    "from rasa.model import get_model, get_latest_model\n",
    "from rasa.core.channels.channel import UserMessage\n",
    "\n",
    "# preq: $ start actions\n",
    "\n",
    "bot='genesis'\n",
    "\n",
    "endpoint = EndpointConfig(\"http://localhost:5055/webhook\")\n",
    "bot_locs={'genesis': '/pi/ws/sagas-ai/bots/genesis'}\n",
    "bot_loc=get_latest_model(f\"{bot_locs[bot]}/models\")\n",
    "print(f'.. load bot model {bot_loc}')\n",
    "agent = Agent.load(bot_loc, action_endpoint=endpoint)\n",
    "\n",
    "# await agent.handle_text(\"do you have any restaurants\")\n",
    "# await agent.handle_text(\"hello\")\n",
    "text = '/ask_is_bot{\"object_type\": \"restaurant\"}'\n",
    "message = UserMessage(text, sender_id=\"my\")\n",
    "result = await agent.handle_message(message)\n",
    "result"
   ]
  }
 ],
 "metadata": {
  "kernelspec": {
   "display_name": "Python 3",
   "language": "python",
   "name": "python3"
  },
  "language_info": {
   "codemirror_mode": {
    "name": "ipython",
    "version": 3
   },
   "file_extension": ".py",
   "mimetype": "text/x-python",
   "name": "python",
   "nbconvert_exporter": "python",
   "pygments_lexer": "ipython3",
   "version": "3.6.9"
  },
  "varInspector": {
   "cols": {
    "lenName": 16,
    "lenType": 16,
    "lenVar": 40
   },
   "kernels_config": {
    "python": {
     "delete_cmd_postfix": "",
     "delete_cmd_prefix": "del ",
     "library": "var_list.py",
     "varRefreshCmd": "print(var_dic_list())"
    },
    "r": {
     "delete_cmd_postfix": ") ",
     "delete_cmd_prefix": "rm(",
     "library": "var_list.r",
     "varRefreshCmd": "cat(var_dic_list()) "
    }
   },
   "types_to_exclude": [
    "module",
    "function",
    "builtin_function_or_method",
    "instance",
    "_Feature"
   ],
   "window_display": false
  }
 },
 "nbformat": 4,
 "nbformat_minor": 2
}
